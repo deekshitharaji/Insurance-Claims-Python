{
 "cells": [
  {
   "cell_type": "code",
   "execution_count": 70,
   "id": "0976c7ff",
   "metadata": {
    "ExecuteTime": {
     "end_time": "2023-04-23T15:05:28.591977Z",
     "start_time": "2023-04-23T15:05:28.567981Z"
    }
   },
   "outputs": [],
   "source": [
    "import numpy as np\n",
    "import pandas as pd\n",
    "from matplotlib import pyplot as plt\n",
    "import seaborn as sns\n",
    "from numpy import where as IF\n",
    "import scipy.stats as stats"
   ]
  },
  {
   "cell_type": "code",
   "execution_count": 2,
   "id": "2be7c56b",
   "metadata": {
    "ExecuteTime": {
     "end_time": "2023-04-23T14:26:44.693752Z",
     "start_time": "2023-04-23T14:26:44.678690Z"
    }
   },
   "outputs": [],
   "source": [
    "#1)Import claims_data.csv and cust_data.csv which is provided to you and combine the two datasets appropriately to create a 360-degree view of the data. Use the same for the subsequent questions."
   ]
  },
  {
   "cell_type": "code",
   "execution_count": 4,
   "id": "5930fdda",
   "metadata": {
    "ExecuteTime": {
     "end_time": "2023-04-23T14:27:51.488182Z",
     "start_time": "2023-04-23T14:27:51.418524Z"
    },
    "scrolled": true
   },
   "outputs": [],
   "source": [
    "claims = pd.read_csv(\"claims.csv\")\n",
    "demo = pd.read_csv(\"cust_demographics.csv\")"
   ]
  },
  {
   "cell_type": "code",
   "execution_count": 5,
   "id": "b6a56d28",
   "metadata": {
    "ExecuteTime": {
     "end_time": "2023-04-23T14:27:59.798472Z",
     "start_time": "2023-04-23T14:27:59.438538Z"
    }
   },
   "outputs": [
    {
     "data": {
      "text/html": [
       "<div>\n",
       "<style scoped>\n",
       "    .dataframe tbody tr th:only-of-type {\n",
       "        vertical-align: middle;\n",
       "    }\n",
       "\n",
       "    .dataframe tbody tr th {\n",
       "        vertical-align: top;\n",
       "    }\n",
       "\n",
       "    .dataframe thead th {\n",
       "        text-align: right;\n",
       "    }\n",
       "</style>\n",
       "<table border=\"1\" class=\"dataframe\">\n",
       "  <thead>\n",
       "    <tr style=\"text-align: right;\">\n",
       "      <th></th>\n",
       "      <th>claim_id</th>\n",
       "      <th>customer_id</th>\n",
       "      <th>incident_cause</th>\n",
       "      <th>claim_date</th>\n",
       "      <th>claim_area</th>\n",
       "      <th>police_report</th>\n",
       "      <th>claim_type</th>\n",
       "      <th>claim_amount</th>\n",
       "      <th>total_policy_claims</th>\n",
       "      <th>fraudulent</th>\n",
       "    </tr>\n",
       "  </thead>\n",
       "  <tbody>\n",
       "    <tr>\n",
       "      <th>0</th>\n",
       "      <td>54004764</td>\n",
       "      <td>21868593</td>\n",
       "      <td>Driver error</td>\n",
       "      <td>11/27/2017</td>\n",
       "      <td>Auto</td>\n",
       "      <td>No</td>\n",
       "      <td>Material only</td>\n",
       "      <td>$2980</td>\n",
       "      <td>1.0</td>\n",
       "      <td>No</td>\n",
       "    </tr>\n",
       "    <tr>\n",
       "      <th>1</th>\n",
       "      <td>33985796</td>\n",
       "      <td>75740424</td>\n",
       "      <td>Crime</td>\n",
       "      <td>10/03/2018</td>\n",
       "      <td>Home</td>\n",
       "      <td>Unknown</td>\n",
       "      <td>Material only</td>\n",
       "      <td>$2980</td>\n",
       "      <td>3.0</td>\n",
       "      <td>No</td>\n",
       "    </tr>\n",
       "    <tr>\n",
       "      <th>2</th>\n",
       "      <td>53522022</td>\n",
       "      <td>30308357</td>\n",
       "      <td>Other driver error</td>\n",
       "      <td>02/02/2018</td>\n",
       "      <td>Auto</td>\n",
       "      <td>No</td>\n",
       "      <td>Material only</td>\n",
       "      <td>$3369.5</td>\n",
       "      <td>1.0</td>\n",
       "      <td>Yes</td>\n",
       "    </tr>\n",
       "    <tr>\n",
       "      <th>3</th>\n",
       "      <td>13015401</td>\n",
       "      <td>47830476</td>\n",
       "      <td>Natural causes</td>\n",
       "      <td>06/17/2018</td>\n",
       "      <td>Auto</td>\n",
       "      <td>No</td>\n",
       "      <td>Material only</td>\n",
       "      <td>$1680</td>\n",
       "      <td>1.0</td>\n",
       "      <td>No</td>\n",
       "    </tr>\n",
       "    <tr>\n",
       "      <th>4</th>\n",
       "      <td>22890252</td>\n",
       "      <td>19269962</td>\n",
       "      <td>Crime</td>\n",
       "      <td>01/13/2018</td>\n",
       "      <td>Auto</td>\n",
       "      <td>No</td>\n",
       "      <td>Material only</td>\n",
       "      <td>$2680</td>\n",
       "      <td>1.0</td>\n",
       "      <td>No</td>\n",
       "    </tr>\n",
       "    <tr>\n",
       "      <th>...</th>\n",
       "      <td>...</td>\n",
       "      <td>...</td>\n",
       "      <td>...</td>\n",
       "      <td>...</td>\n",
       "      <td>...</td>\n",
       "      <td>...</td>\n",
       "      <td>...</td>\n",
       "      <td>...</td>\n",
       "      <td>...</td>\n",
       "      <td>...</td>\n",
       "    </tr>\n",
       "    <tr>\n",
       "      <th>1095</th>\n",
       "      <td>97727122</td>\n",
       "      <td>35951012</td>\n",
       "      <td>Other driver error</td>\n",
       "      <td>06/11/2017</td>\n",
       "      <td>Auto</td>\n",
       "      <td>No</td>\n",
       "      <td>Material only</td>\n",
       "      <td>$3059</td>\n",
       "      <td>4.0</td>\n",
       "      <td>Yes</td>\n",
       "    </tr>\n",
       "    <tr>\n",
       "      <th>1096</th>\n",
       "      <td>10247193</td>\n",
       "      <td>14818669</td>\n",
       "      <td>Natural causes</td>\n",
       "      <td>03/14/2018</td>\n",
       "      <td>Auto</td>\n",
       "      <td>No</td>\n",
       "      <td>Material only</td>\n",
       "      <td>$1520</td>\n",
       "      <td>2.0</td>\n",
       "      <td>No</td>\n",
       "    </tr>\n",
       "    <tr>\n",
       "      <th>1097</th>\n",
       "      <td>79807493</td>\n",
       "      <td>85322831</td>\n",
       "      <td>Other driver error</td>\n",
       "      <td>02/09/2018</td>\n",
       "      <td>Auto</td>\n",
       "      <td>No</td>\n",
       "      <td>Material and injury</td>\n",
       "      <td>$23575</td>\n",
       "      <td>2.0</td>\n",
       "      <td>Yes</td>\n",
       "    </tr>\n",
       "    <tr>\n",
       "      <th>1098</th>\n",
       "      <td>69299345</td>\n",
       "      <td>73449366</td>\n",
       "      <td>Other causes</td>\n",
       "      <td>03/21/2018</td>\n",
       "      <td>Auto</td>\n",
       "      <td>Unknown</td>\n",
       "      <td>Material and injury</td>\n",
       "      <td>$25120</td>\n",
       "      <td>1.0</td>\n",
       "      <td>No</td>\n",
       "    </tr>\n",
       "    <tr>\n",
       "      <th>1099</th>\n",
       "      <td>58809728</td>\n",
       "      <td>43020876</td>\n",
       "      <td>Other driver error</td>\n",
       "      <td>06/04/2017</td>\n",
       "      <td>Auto</td>\n",
       "      <td>Yes</td>\n",
       "      <td>Material and injury</td>\n",
       "      <td>$36685</td>\n",
       "      <td>3.0</td>\n",
       "      <td>Yes</td>\n",
       "    </tr>\n",
       "  </tbody>\n",
       "</table>\n",
       "<p>1100 rows × 10 columns</p>\n",
       "</div>"
      ],
      "text/plain": [
       "      claim_id  customer_id      incident_cause  claim_date claim_area  \\\n",
       "0     54004764     21868593        Driver error  11/27/2017       Auto   \n",
       "1     33985796     75740424               Crime  10/03/2018       Home   \n",
       "2     53522022     30308357  Other driver error  02/02/2018       Auto   \n",
       "3     13015401     47830476      Natural causes  06/17/2018       Auto   \n",
       "4     22890252     19269962               Crime  01/13/2018       Auto   \n",
       "...        ...          ...                 ...         ...        ...   \n",
       "1095  97727122     35951012  Other driver error  06/11/2017       Auto   \n",
       "1096  10247193     14818669      Natural causes  03/14/2018       Auto   \n",
       "1097  79807493     85322831  Other driver error  02/09/2018       Auto   \n",
       "1098  69299345     73449366        Other causes  03/21/2018       Auto   \n",
       "1099  58809728     43020876  Other driver error  06/04/2017       Auto   \n",
       "\n",
       "     police_report           claim_type claim_amount  total_policy_claims  \\\n",
       "0               No        Material only        $2980                  1.0   \n",
       "1          Unknown        Material only        $2980                  3.0   \n",
       "2               No        Material only      $3369.5                  1.0   \n",
       "3               No        Material only        $1680                  1.0   \n",
       "4               No        Material only        $2680                  1.0   \n",
       "...            ...                  ...          ...                  ...   \n",
       "1095            No        Material only        $3059                  4.0   \n",
       "1096            No        Material only        $1520                  2.0   \n",
       "1097            No  Material and injury       $23575                  2.0   \n",
       "1098       Unknown  Material and injury       $25120                  1.0   \n",
       "1099           Yes  Material and injury       $36685                  3.0   \n",
       "\n",
       "     fraudulent  \n",
       "0            No  \n",
       "1            No  \n",
       "2           Yes  \n",
       "3            No  \n",
       "4            No  \n",
       "...         ...  \n",
       "1095        Yes  \n",
       "1096         No  \n",
       "1097        Yes  \n",
       "1098         No  \n",
       "1099        Yes  \n",
       "\n",
       "[1100 rows x 10 columns]"
      ]
     },
     "execution_count": 5,
     "metadata": {},
     "output_type": "execute_result"
    }
   ],
   "source": [
    "claims"
   ]
  },
  {
   "cell_type": "code",
   "execution_count": 6,
   "id": "8d8da6ac",
   "metadata": {
    "ExecuteTime": {
     "end_time": "2023-04-23T14:28:06.253374Z",
     "start_time": "2023-04-23T14:28:06.207703Z"
    }
   },
   "outputs": [
    {
     "data": {
      "text/html": [
       "<div>\n",
       "<style scoped>\n",
       "    .dataframe tbody tr th:only-of-type {\n",
       "        vertical-align: middle;\n",
       "    }\n",
       "\n",
       "    .dataframe tbody tr th {\n",
       "        vertical-align: top;\n",
       "    }\n",
       "\n",
       "    .dataframe thead th {\n",
       "        text-align: right;\n",
       "    }\n",
       "</style>\n",
       "<table border=\"1\" class=\"dataframe\">\n",
       "  <thead>\n",
       "    <tr style=\"text-align: right;\">\n",
       "      <th></th>\n",
       "      <th>CUST_ID</th>\n",
       "      <th>gender</th>\n",
       "      <th>DateOfBirth</th>\n",
       "      <th>State</th>\n",
       "      <th>Contact</th>\n",
       "      <th>Segment</th>\n",
       "    </tr>\n",
       "  </thead>\n",
       "  <tbody>\n",
       "    <tr>\n",
       "      <th>0</th>\n",
       "      <td>21868593</td>\n",
       "      <td>Female</td>\n",
       "      <td>12-Jan-79</td>\n",
       "      <td>VT</td>\n",
       "      <td>789-916-8172</td>\n",
       "      <td>Platinum</td>\n",
       "    </tr>\n",
       "    <tr>\n",
       "      <th>1</th>\n",
       "      <td>75740424</td>\n",
       "      <td>Female</td>\n",
       "      <td>13-Jan-70</td>\n",
       "      <td>ME</td>\n",
       "      <td>265-543-1264</td>\n",
       "      <td>Silver</td>\n",
       "    </tr>\n",
       "    <tr>\n",
       "      <th>2</th>\n",
       "      <td>30308357</td>\n",
       "      <td>Female</td>\n",
       "      <td>11-Mar-84</td>\n",
       "      <td>TN</td>\n",
       "      <td>798-631-4758</td>\n",
       "      <td>Silver</td>\n",
       "    </tr>\n",
       "    <tr>\n",
       "      <th>3</th>\n",
       "      <td>47830476</td>\n",
       "      <td>Female</td>\n",
       "      <td>01-May-86</td>\n",
       "      <td>MA</td>\n",
       "      <td>413-187-7945</td>\n",
       "      <td>Silver</td>\n",
       "    </tr>\n",
       "    <tr>\n",
       "      <th>4</th>\n",
       "      <td>19269962</td>\n",
       "      <td>Male</td>\n",
       "      <td>13-May-77</td>\n",
       "      <td>NV</td>\n",
       "      <td>956-871-8691</td>\n",
       "      <td>Gold</td>\n",
       "    </tr>\n",
       "    <tr>\n",
       "      <th>...</th>\n",
       "      <td>...</td>\n",
       "      <td>...</td>\n",
       "      <td>...</td>\n",
       "      <td>...</td>\n",
       "      <td>...</td>\n",
       "      <td>...</td>\n",
       "    </tr>\n",
       "    <tr>\n",
       "      <th>1080</th>\n",
       "      <td>79539873</td>\n",
       "      <td>Female</td>\n",
       "      <td>15-Mar-81</td>\n",
       "      <td>ND</td>\n",
       "      <td>459-425-4319</td>\n",
       "      <td>Platinum</td>\n",
       "    </tr>\n",
       "    <tr>\n",
       "      <th>1081</th>\n",
       "      <td>42364152</td>\n",
       "      <td>Female</td>\n",
       "      <td>07-Jul-96</td>\n",
       "      <td>ID</td>\n",
       "      <td>529-462-1635</td>\n",
       "      <td>Silver</td>\n",
       "    </tr>\n",
       "    <tr>\n",
       "      <th>1082</th>\n",
       "      <td>19888166</td>\n",
       "      <td>Male</td>\n",
       "      <td>11-Apr-90</td>\n",
       "      <td>WI</td>\n",
       "      <td>712-651-9613</td>\n",
       "      <td>Gold</td>\n",
       "    </tr>\n",
       "    <tr>\n",
       "      <th>1083</th>\n",
       "      <td>11256802</td>\n",
       "      <td>Female</td>\n",
       "      <td>22-Oct-64</td>\n",
       "      <td>LA</td>\n",
       "      <td>469-345-5617</td>\n",
       "      <td>Silver</td>\n",
       "    </tr>\n",
       "    <tr>\n",
       "      <th>1084</th>\n",
       "      <td>61575264</td>\n",
       "      <td>Male</td>\n",
       "      <td>12-Jul-95</td>\n",
       "      <td>WY</td>\n",
       "      <td>182-385-1392</td>\n",
       "      <td>Gold</td>\n",
       "    </tr>\n",
       "  </tbody>\n",
       "</table>\n",
       "<p>1085 rows × 6 columns</p>\n",
       "</div>"
      ],
      "text/plain": [
       "       CUST_ID  gender DateOfBirth State       Contact   Segment\n",
       "0     21868593  Female   12-Jan-79    VT  789-916-8172  Platinum\n",
       "1     75740424  Female   13-Jan-70    ME  265-543-1264    Silver\n",
       "2     30308357  Female   11-Mar-84    TN  798-631-4758    Silver\n",
       "3     47830476  Female   01-May-86    MA  413-187-7945    Silver\n",
       "4     19269962    Male   13-May-77    NV  956-871-8691      Gold\n",
       "...        ...     ...         ...   ...           ...       ...\n",
       "1080  79539873  Female   15-Mar-81    ND  459-425-4319  Platinum\n",
       "1081  42364152  Female   07-Jul-96    ID  529-462-1635    Silver\n",
       "1082  19888166    Male   11-Apr-90    WI  712-651-9613      Gold\n",
       "1083  11256802  Female   22-Oct-64    LA  469-345-5617    Silver\n",
       "1084  61575264    Male   12-Jul-95    WY  182-385-1392      Gold\n",
       "\n",
       "[1085 rows x 6 columns]"
      ]
     },
     "execution_count": 6,
     "metadata": {},
     "output_type": "execute_result"
    }
   ],
   "source": [
    "demo"
   ]
  },
  {
   "cell_type": "code",
   "execution_count": 7,
   "id": "29e58213",
   "metadata": {
    "ExecuteTime": {
     "end_time": "2023-04-23T14:28:22.698511Z",
     "start_time": "2023-04-23T14:28:22.278333Z"
    }
   },
   "outputs": [
    {
     "data": {
      "text/html": [
       "<div>\n",
       "<style scoped>\n",
       "    .dataframe tbody tr th:only-of-type {\n",
       "        vertical-align: middle;\n",
       "    }\n",
       "\n",
       "    .dataframe tbody tr th {\n",
       "        vertical-align: top;\n",
       "    }\n",
       "\n",
       "    .dataframe thead th {\n",
       "        text-align: right;\n",
       "    }\n",
       "</style>\n",
       "<table border=\"1\" class=\"dataframe\">\n",
       "  <thead>\n",
       "    <tr style=\"text-align: right;\">\n",
       "      <th></th>\n",
       "      <th>CUST_ID</th>\n",
       "      <th>gender</th>\n",
       "      <th>DateOfBirth</th>\n",
       "      <th>State</th>\n",
       "      <th>Contact</th>\n",
       "      <th>Segment</th>\n",
       "      <th>claim_id</th>\n",
       "      <th>incident_cause</th>\n",
       "      <th>claim_date</th>\n",
       "      <th>claim_area</th>\n",
       "      <th>police_report</th>\n",
       "      <th>claim_type</th>\n",
       "      <th>claim_amount</th>\n",
       "      <th>total_policy_claims</th>\n",
       "      <th>fraudulent</th>\n",
       "    </tr>\n",
       "  </thead>\n",
       "  <tbody>\n",
       "    <tr>\n",
       "      <th>0</th>\n",
       "      <td>21868593.0</td>\n",
       "      <td>Female</td>\n",
       "      <td>12-Jan-79</td>\n",
       "      <td>VT</td>\n",
       "      <td>789-916-8172</td>\n",
       "      <td>Platinum</td>\n",
       "      <td>54004764.0</td>\n",
       "      <td>Driver error</td>\n",
       "      <td>11/27/2017</td>\n",
       "      <td>Auto</td>\n",
       "      <td>No</td>\n",
       "      <td>Material only</td>\n",
       "      <td>$2980</td>\n",
       "      <td>1.0</td>\n",
       "      <td>No</td>\n",
       "    </tr>\n",
       "    <tr>\n",
       "      <th>1</th>\n",
       "      <td>75740424.0</td>\n",
       "      <td>Female</td>\n",
       "      <td>13-Jan-70</td>\n",
       "      <td>ME</td>\n",
       "      <td>265-543-1264</td>\n",
       "      <td>Silver</td>\n",
       "      <td>33985796.0</td>\n",
       "      <td>Crime</td>\n",
       "      <td>10/03/2018</td>\n",
       "      <td>Home</td>\n",
       "      <td>Unknown</td>\n",
       "      <td>Material only</td>\n",
       "      <td>$2980</td>\n",
       "      <td>3.0</td>\n",
       "      <td>No</td>\n",
       "    </tr>\n",
       "  </tbody>\n",
       "</table>\n",
       "</div>"
      ],
      "text/plain": [
       "      CUST_ID  gender DateOfBirth State       Contact   Segment    claim_id  \\\n",
       "0  21868593.0  Female   12-Jan-79    VT  789-916-8172  Platinum  54004764.0   \n",
       "1  75740424.0  Female   13-Jan-70    ME  265-543-1264    Silver  33985796.0   \n",
       "\n",
       "  incident_cause  claim_date claim_area police_report     claim_type  \\\n",
       "0   Driver error  11/27/2017       Auto            No  Material only   \n",
       "1          Crime  10/03/2018       Home       Unknown  Material only   \n",
       "\n",
       "  claim_amount  total_policy_claims fraudulent  \n",
       "0        $2980                  1.0         No  \n",
       "1        $2980                  3.0         No  "
      ]
     },
     "execution_count": 7,
     "metadata": {},
     "output_type": "execute_result"
    }
   ],
   "source": [
    "comb_df = pd.merge(right = claims,\n",
    "                   left = demo, \n",
    "                   right_on = \"customer_id\", \n",
    "                   left_on = \"CUST_ID\",\n",
    "                   how = \"outer\"\n",
    "                  )\n",
    "comb_df.drop(columns = [\"customer_id\"], inplace = True)\n",
    "comb_df.head(2)"
   ]
  },
  {
   "cell_type": "code",
   "execution_count": 8,
   "id": "80f6498b",
   "metadata": {
    "ExecuteTime": {
     "end_time": "2023-04-23T14:29:22.817385Z",
     "start_time": "2023-04-23T14:29:22.801384Z"
    }
   },
   "outputs": [],
   "source": [
    "#2. Perform a data audit for the datatypes and find out if there are any\n",
    "#mismatch within the current datatypes of the columns and their business significance."
   ]
  },
  {
   "cell_type": "code",
   "execution_count": 9,
   "id": "9b611145",
   "metadata": {
    "ExecuteTime": {
     "end_time": "2023-04-23T14:30:04.062338Z",
     "start_time": "2023-04-23T14:30:03.507034Z"
    }
   },
   "outputs": [],
   "source": [
    "comb_df[\"DateOfBirth\"] = pd.to_datetime(comb_df.DateOfBirth, format = \"%d-%b-%y\")\n",
    "comb_df.loc[(comb_df.DateOfBirth.dt.year > 2020),\"DateOfBirth\"]=comb_df[comb_df.DateOfBirth.dt.year > 2020][\"DateOfBirth\"].apply(lambda x: x - pd.DateOffset(years=100))\n",
    "comb_df[\"claim_date\"] = pd.to_datetime(comb_df.claim_date, format = \"%m/%d/%Y\")\n",
    "comb_df[\"Contact\"] = pd.to_numeric(comb_df.Contact.str.replace(\"-\",\"\"),downcast='float')"
   ]
  },
  {
   "cell_type": "code",
   "execution_count": 10,
   "id": "3e0f94a5",
   "metadata": {
    "ExecuteTime": {
     "end_time": "2023-04-23T14:30:21.545720Z",
     "start_time": "2023-04-23T14:30:21.529687Z"
    }
   },
   "outputs": [],
   "source": [
    "#3Convert the column claim_amount to numeric. Use the appropriate modules/attributes to remove the $ sign."
   ]
  },
  {
   "cell_type": "code",
   "execution_count": 11,
   "id": "8656552c",
   "metadata": {
    "ExecuteTime": {
     "end_time": "2023-04-23T14:46:09.197596Z",
     "start_time": "2023-04-23T14:46:09.023641Z"
    }
   },
   "outputs": [
    {
     "name": "stderr",
     "output_type": "stream",
     "text": [
      "C:\\Users\\Deekshitha Raji\\AppData\\Local\\Temp\\ipykernel_11056\\2503011791.py:1: FutureWarning: The default value of regex will change from True to False in a future version. In addition, single character regular expressions will *not* be treated as literal strings when regex=True.\n",
      "  comb_df[\"claim_amount\"] = pd.to_numeric(comb_df.claim_amount.str.replace(\"$\",\"\"),downcast='float')\n"
     ]
    },
    {
     "data": {
      "text/html": [
       "<div>\n",
       "<style scoped>\n",
       "    .dataframe tbody tr th:only-of-type {\n",
       "        vertical-align: middle;\n",
       "    }\n",
       "\n",
       "    .dataframe tbody tr th {\n",
       "        vertical-align: top;\n",
       "    }\n",
       "\n",
       "    .dataframe thead th {\n",
       "        text-align: right;\n",
       "    }\n",
       "</style>\n",
       "<table border=\"1\" class=\"dataframe\">\n",
       "  <thead>\n",
       "    <tr style=\"text-align: right;\">\n",
       "      <th></th>\n",
       "      <th>CUST_ID</th>\n",
       "      <th>gender</th>\n",
       "      <th>DateOfBirth</th>\n",
       "      <th>State</th>\n",
       "      <th>Contact</th>\n",
       "      <th>Segment</th>\n",
       "      <th>claim_id</th>\n",
       "      <th>incident_cause</th>\n",
       "      <th>claim_date</th>\n",
       "      <th>claim_area</th>\n",
       "      <th>police_report</th>\n",
       "      <th>claim_type</th>\n",
       "      <th>claim_amount</th>\n",
       "      <th>total_policy_claims</th>\n",
       "      <th>fraudulent</th>\n",
       "    </tr>\n",
       "  </thead>\n",
       "  <tbody>\n",
       "    <tr>\n",
       "      <th>0</th>\n",
       "      <td>21868593.0</td>\n",
       "      <td>Female</td>\n",
       "      <td>1979-01-12</td>\n",
       "      <td>VT</td>\n",
       "      <td>7.899168e+09</td>\n",
       "      <td>Platinum</td>\n",
       "      <td>54004764.0</td>\n",
       "      <td>Driver error</td>\n",
       "      <td>2017-11-27</td>\n",
       "      <td>Auto</td>\n",
       "      <td>No</td>\n",
       "      <td>Material only</td>\n",
       "      <td>2980.0</td>\n",
       "      <td>1.0</td>\n",
       "      <td>No</td>\n",
       "    </tr>\n",
       "    <tr>\n",
       "      <th>1</th>\n",
       "      <td>75740424.0</td>\n",
       "      <td>Female</td>\n",
       "      <td>1970-01-13</td>\n",
       "      <td>ME</td>\n",
       "      <td>2.655431e+09</td>\n",
       "      <td>Silver</td>\n",
       "      <td>33985796.0</td>\n",
       "      <td>Crime</td>\n",
       "      <td>2018-10-03</td>\n",
       "      <td>Home</td>\n",
       "      <td>Unknown</td>\n",
       "      <td>Material only</td>\n",
       "      <td>2980.0</td>\n",
       "      <td>3.0</td>\n",
       "      <td>No</td>\n",
       "    </tr>\n",
       "  </tbody>\n",
       "</table>\n",
       "</div>"
      ],
      "text/plain": [
       "      CUST_ID  gender DateOfBirth State       Contact   Segment    claim_id  \\\n",
       "0  21868593.0  Female  1979-01-12    VT  7.899168e+09  Platinum  54004764.0   \n",
       "1  75740424.0  Female  1970-01-13    ME  2.655431e+09    Silver  33985796.0   \n",
       "\n",
       "  incident_cause claim_date claim_area police_report     claim_type  \\\n",
       "0   Driver error 2017-11-27       Auto            No  Material only   \n",
       "1          Crime 2018-10-03       Home       Unknown  Material only   \n",
       "\n",
       "   claim_amount  total_policy_claims fraudulent  \n",
       "0        2980.0                  1.0         No  \n",
       "1        2980.0                  3.0         No  "
      ]
     },
     "execution_count": 11,
     "metadata": {},
     "output_type": "execute_result"
    }
   ],
   "source": [
    "comb_df[\"claim_amount\"] = pd.to_numeric(comb_df.claim_amount.str.replace(\"$\",\"\"),downcast='float')\n",
    "comb_df.head(2)"
   ]
  },
  {
   "cell_type": "code",
   "execution_count": 12,
   "id": "0e7c0d0d",
   "metadata": {
    "ExecuteTime": {
     "end_time": "2023-04-23T14:46:41.968879Z",
     "start_time": "2023-04-23T14:46:41.961906Z"
    }
   },
   "outputs": [],
   "source": [
    "#4)Of all the injury claims, some of them have gone unreported with the police. Create an alert flag (1,0) for all such claims."
   ]
  },
  {
   "cell_type": "code",
   "execution_count": 13,
   "id": "7cf356dc",
   "metadata": {
    "ExecuteTime": {
     "end_time": "2023-04-23T14:46:49.923311Z",
     "start_time": "2023-04-23T14:46:49.863997Z"
    }
   },
   "outputs": [],
   "source": [
    "comb_df[\"flag\"] = IF(comb_df.police_report == \"No\", 0 ,\n",
    "                    IF(comb_df.police_report == \"Yes\", 1, np.nan))\n",
    "comb_df.drop(columns = [\"police_report\"], inplace = True)"
   ]
  },
  {
   "cell_type": "code",
   "execution_count": 14,
   "id": "9002042a",
   "metadata": {
    "ExecuteTime": {
     "end_time": "2023-04-23T14:47:12.303470Z",
     "start_time": "2023-04-23T14:47:12.295528Z"
    }
   },
   "outputs": [],
   "source": [
    "#5)One customer can claim for insurance more than once and in each claim, multiple categories of claims can be involved. However, customer ID should remain unique. Retain the most recent observation and delete any duplicated records in the data based on the customer ID column."
   ]
  },
  {
   "cell_type": "code",
   "execution_count": 22,
   "id": "1f3e750a",
   "metadata": {
    "ExecuteTime": {
     "end_time": "2023-04-23T14:51:32.866937Z",
     "start_time": "2023-04-23T14:51:32.831188Z"
    }
   },
   "outputs": [
    {
     "ename": "KeyError",
     "evalue": "'CUST_ID'",
     "output_type": "error",
     "traceback": [
      "\u001b[1;31m---------------------------------------------------------------------------\u001b[0m",
      "\u001b[1;31mKeyError\u001b[0m                                  Traceback (most recent call last)",
      "\u001b[1;32m~\\AppData\\Local\\Temp\\ipykernel_11056\\3462972405.py\u001b[0m in \u001b[0;36m<module>\u001b[1;34m\u001b[0m\n\u001b[1;32m----> 1\u001b[1;33m \u001b[0mcomb_df\u001b[0m \u001b[1;33m=\u001b[0m \u001b[0mcomb_df\u001b[0m\u001b[1;33m.\u001b[0m\u001b[0mgroupby\u001b[0m\u001b[1;33m(\u001b[0m\u001b[1;34m'CUST_ID'\u001b[0m\u001b[1;33m)\u001b[0m\u001b[1;33m.\u001b[0m\u001b[0mfirst\u001b[0m\u001b[1;33m(\u001b[0m\u001b[1;33m)\u001b[0m\u001b[1;33m.\u001b[0m\u001b[0mreset_index\u001b[0m\u001b[1;33m(\u001b[0m\u001b[0mdrop\u001b[0m \u001b[1;33m=\u001b[0m \u001b[1;32mTrue\u001b[0m\u001b[1;33m)\u001b[0m\u001b[1;33m\u001b[0m\u001b[1;33m\u001b[0m\u001b[0m\n\u001b[0m",
      "\u001b[1;32m~\\anaconda3\\lib\\site-packages\\pandas\\core\\frame.py\u001b[0m in \u001b[0;36mgroupby\u001b[1;34m(self, by, axis, level, as_index, sort, group_keys, squeeze, observed, dropna)\u001b[0m\n\u001b[0;32m   7719\u001b[0m         \u001b[1;31m# error: Argument \"squeeze\" to \"DataFrameGroupBy\" has incompatible type\u001b[0m\u001b[1;33m\u001b[0m\u001b[1;33m\u001b[0m\u001b[0m\n\u001b[0;32m   7720\u001b[0m         \u001b[1;31m# \"Union[bool, NoDefault]\"; expected \"bool\"\u001b[0m\u001b[1;33m\u001b[0m\u001b[1;33m\u001b[0m\u001b[0m\n\u001b[1;32m-> 7721\u001b[1;33m         return DataFrameGroupBy(\n\u001b[0m\u001b[0;32m   7722\u001b[0m             \u001b[0mobj\u001b[0m\u001b[1;33m=\u001b[0m\u001b[0mself\u001b[0m\u001b[1;33m,\u001b[0m\u001b[1;33m\u001b[0m\u001b[1;33m\u001b[0m\u001b[0m\n\u001b[0;32m   7723\u001b[0m             \u001b[0mkeys\u001b[0m\u001b[1;33m=\u001b[0m\u001b[0mby\u001b[0m\u001b[1;33m,\u001b[0m\u001b[1;33m\u001b[0m\u001b[1;33m\u001b[0m\u001b[0m\n",
      "\u001b[1;32m~\\anaconda3\\lib\\site-packages\\pandas\\core\\groupby\\groupby.py\u001b[0m in \u001b[0;36m__init__\u001b[1;34m(self, obj, keys, axis, level, grouper, exclusions, selection, as_index, sort, group_keys, squeeze, observed, mutated, dropna)\u001b[0m\n\u001b[0;32m    880\u001b[0m             \u001b[1;32mfrom\u001b[0m \u001b[0mpandas\u001b[0m\u001b[1;33m.\u001b[0m\u001b[0mcore\u001b[0m\u001b[1;33m.\u001b[0m\u001b[0mgroupby\u001b[0m\u001b[1;33m.\u001b[0m\u001b[0mgrouper\u001b[0m \u001b[1;32mimport\u001b[0m \u001b[0mget_grouper\u001b[0m\u001b[1;33m\u001b[0m\u001b[1;33m\u001b[0m\u001b[0m\n\u001b[0;32m    881\u001b[0m \u001b[1;33m\u001b[0m\u001b[0m\n\u001b[1;32m--> 882\u001b[1;33m             grouper, exclusions, obj = get_grouper(\n\u001b[0m\u001b[0;32m    883\u001b[0m                 \u001b[0mobj\u001b[0m\u001b[1;33m,\u001b[0m\u001b[1;33m\u001b[0m\u001b[1;33m\u001b[0m\u001b[0m\n\u001b[0;32m    884\u001b[0m                 \u001b[0mkeys\u001b[0m\u001b[1;33m,\u001b[0m\u001b[1;33m\u001b[0m\u001b[1;33m\u001b[0m\u001b[0m\n",
      "\u001b[1;32m~\\anaconda3\\lib\\site-packages\\pandas\\core\\groupby\\grouper.py\u001b[0m in \u001b[0;36mget_grouper\u001b[1;34m(obj, key, axis, level, sort, observed, mutated, validate, dropna)\u001b[0m\n\u001b[0;32m    880\u001b[0m                 \u001b[0min_axis\u001b[0m\u001b[1;33m,\u001b[0m \u001b[0mlevel\u001b[0m\u001b[1;33m,\u001b[0m \u001b[0mgpr\u001b[0m \u001b[1;33m=\u001b[0m \u001b[1;32mFalse\u001b[0m\u001b[1;33m,\u001b[0m \u001b[0mgpr\u001b[0m\u001b[1;33m,\u001b[0m \u001b[1;32mNone\u001b[0m\u001b[1;33m\u001b[0m\u001b[1;33m\u001b[0m\u001b[0m\n\u001b[0;32m    881\u001b[0m             \u001b[1;32melse\u001b[0m\u001b[1;33m:\u001b[0m\u001b[1;33m\u001b[0m\u001b[1;33m\u001b[0m\u001b[0m\n\u001b[1;32m--> 882\u001b[1;33m                 \u001b[1;32mraise\u001b[0m \u001b[0mKeyError\u001b[0m\u001b[1;33m(\u001b[0m\u001b[0mgpr\u001b[0m\u001b[1;33m)\u001b[0m\u001b[1;33m\u001b[0m\u001b[1;33m\u001b[0m\u001b[0m\n\u001b[0m\u001b[0;32m    883\u001b[0m         \u001b[1;32melif\u001b[0m \u001b[0misinstance\u001b[0m\u001b[1;33m(\u001b[0m\u001b[0mgpr\u001b[0m\u001b[1;33m,\u001b[0m \u001b[0mGrouper\u001b[0m\u001b[1;33m)\u001b[0m \u001b[1;32mand\u001b[0m \u001b[0mgpr\u001b[0m\u001b[1;33m.\u001b[0m\u001b[0mkey\u001b[0m \u001b[1;32mis\u001b[0m \u001b[1;32mnot\u001b[0m \u001b[1;32mNone\u001b[0m\u001b[1;33m:\u001b[0m\u001b[1;33m\u001b[0m\u001b[1;33m\u001b[0m\u001b[0m\n\u001b[0;32m    884\u001b[0m             \u001b[1;31m# Add key to exclusions\u001b[0m\u001b[1;33m\u001b[0m\u001b[1;33m\u001b[0m\u001b[0m\n",
      "\u001b[1;31mKeyError\u001b[0m: 'CUST_ID'"
     ]
    }
   ],
   "source": [
    "comb_df = comb_df.groupby('CUST_ID').first().reset_index(drop = True)"
   ]
  },
  {
   "cell_type": "code",
   "execution_count": 19,
   "id": "2a7421c6",
   "metadata": {
    "ExecuteTime": {
     "end_time": "2023-04-23T14:50:45.423835Z",
     "start_time": "2023-04-23T14:50:45.414894Z"
    }
   },
   "outputs": [],
   "source": [
    "#6)Check for missing values and impute the missing values with an appropriate value. (mean for continuous and mode for categorical)"
   ]
  },
  {
   "cell_type": "code",
   "execution_count": 20,
   "id": "9ce66bb0",
   "metadata": {
    "ExecuteTime": {
     "end_time": "2023-04-23T14:50:47.731724Z",
     "start_time": "2023-04-23T14:50:47.705796Z"
    }
   },
   "outputs": [
    {
     "data": {
      "text/plain": [
       "7"
      ]
     },
     "execution_count": 20,
     "metadata": {},
     "output_type": "execute_result"
    }
   ],
   "source": [
    "comb_df[\"incident_cause\"].isna().sum()"
   ]
  },
  {
   "cell_type": "code",
   "execution_count": 21,
   "id": "e79714be",
   "metadata": {
    "ExecuteTime": {
     "end_time": "2023-04-23T14:50:58.073056Z",
     "start_time": "2023-04-23T14:50:58.056102Z"
    }
   },
   "outputs": [],
   "source": [
    "cat_col = [\"gender\",\"State\",\"Segment\",\"incident_cause\",\"claim_area\",\"claim_type\",\"fraudulent\",\"flag\"]\n",
    "con_col = [\"claim_amount\"]"
   ]
  },
  {
   "cell_type": "code",
   "execution_count": 23,
   "id": "153c2910",
   "metadata": {
    "ExecuteTime": {
     "end_time": "2023-04-23T14:51:51.017163Z",
     "start_time": "2023-04-23T14:51:50.677631Z"
    }
   },
   "outputs": [
    {
     "data": {
      "text/html": [
       "<div>\n",
       "<style scoped>\n",
       "    .dataframe tbody tr th:only-of-type {\n",
       "        vertical-align: middle;\n",
       "    }\n",
       "\n",
       "    .dataframe tbody tr th {\n",
       "        vertical-align: top;\n",
       "    }\n",
       "\n",
       "    .dataframe thead th {\n",
       "        text-align: right;\n",
       "    }\n",
       "</style>\n",
       "<table border=\"1\" class=\"dataframe\">\n",
       "  <thead>\n",
       "    <tr style=\"text-align: right;\">\n",
       "      <th></th>\n",
       "      <th>gender</th>\n",
       "      <th>DateOfBirth</th>\n",
       "      <th>State</th>\n",
       "      <th>Contact</th>\n",
       "      <th>Segment</th>\n",
       "      <th>claim_id</th>\n",
       "      <th>incident_cause</th>\n",
       "      <th>claim_date</th>\n",
       "      <th>claim_area</th>\n",
       "      <th>claim_type</th>\n",
       "      <th>claim_amount</th>\n",
       "      <th>total_policy_claims</th>\n",
       "      <th>fraudulent</th>\n",
       "      <th>flag</th>\n",
       "    </tr>\n",
       "  </thead>\n",
       "  <tbody>\n",
       "    <tr>\n",
       "      <th>0</th>\n",
       "      <td>Female</td>\n",
       "      <td>1978-05-23</td>\n",
       "      <td>DE</td>\n",
       "      <td>9.628791e+09</td>\n",
       "      <td>Platinum</td>\n",
       "      <td>69348631.0</td>\n",
       "      <td>Driver error</td>\n",
       "      <td>2018-04-10</td>\n",
       "      <td>Auto</td>\n",
       "      <td>Injury only</td>\n",
       "      <td>12470.501953</td>\n",
       "      <td>1.0</td>\n",
       "      <td>Yes</td>\n",
       "      <td>0.0</td>\n",
       "    </tr>\n",
       "    <tr>\n",
       "      <th>1</th>\n",
       "      <td>Male</td>\n",
       "      <td>1972-12-20</td>\n",
       "      <td>TX</td>\n",
       "      <td>1.738926e+09</td>\n",
       "      <td>Silver</td>\n",
       "      <td>40953049.0</td>\n",
       "      <td>Other causes</td>\n",
       "      <td>2018-04-04</td>\n",
       "      <td>Auto</td>\n",
       "      <td>Material and injury</td>\n",
       "      <td>39192.000000</td>\n",
       "      <td>1.0</td>\n",
       "      <td>Yes</td>\n",
       "      <td>0.0</td>\n",
       "    </tr>\n",
       "    <tr>\n",
       "      <th>2</th>\n",
       "      <td>Male</td>\n",
       "      <td>1988-07-28</td>\n",
       "      <td>FL</td>\n",
       "      <td>3.645981e+09</td>\n",
       "      <td>Silver</td>\n",
       "      <td>45780237.0</td>\n",
       "      <td>Natural causes</td>\n",
       "      <td>2017-10-17</td>\n",
       "      <td>Auto</td>\n",
       "      <td>Material only</td>\n",
       "      <td>1621.500000</td>\n",
       "      <td>2.0</td>\n",
       "      <td>Yes</td>\n",
       "      <td>0.0</td>\n",
       "    </tr>\n",
       "    <tr>\n",
       "      <th>3</th>\n",
       "      <td>Male</td>\n",
       "      <td>1971-08-19</td>\n",
       "      <td>CA</td>\n",
       "      <td>1.873488e+09</td>\n",
       "      <td>Gold</td>\n",
       "      <td>89833962.0</td>\n",
       "      <td>Other causes</td>\n",
       "      <td>2018-03-21</td>\n",
       "      <td>Auto</td>\n",
       "      <td>Material and injury</td>\n",
       "      <td>37040.000000</td>\n",
       "      <td>1.0</td>\n",
       "      <td>No</td>\n",
       "      <td>1.0</td>\n",
       "    </tr>\n",
       "    <tr>\n",
       "      <th>4</th>\n",
       "      <td>Female</td>\n",
       "      <td>1980-08-10</td>\n",
       "      <td>NC</td>\n",
       "      <td>7.988625e+09</td>\n",
       "      <td>Gold</td>\n",
       "      <td>35782742.0</td>\n",
       "      <td>Other driver error</td>\n",
       "      <td>2018-07-27</td>\n",
       "      <td>Auto</td>\n",
       "      <td>Injury only</td>\n",
       "      <td>35250.000000</td>\n",
       "      <td>3.0</td>\n",
       "      <td>No</td>\n",
       "      <td>0.0</td>\n",
       "    </tr>\n",
       "  </tbody>\n",
       "</table>\n",
       "</div>"
      ],
      "text/plain": [
       "   gender DateOfBirth State       Contact   Segment    claim_id  \\\n",
       "0  Female  1978-05-23    DE  9.628791e+09  Platinum  69348631.0   \n",
       "1    Male  1972-12-20    TX  1.738926e+09    Silver  40953049.0   \n",
       "2    Male  1988-07-28    FL  3.645981e+09    Silver  45780237.0   \n",
       "3    Male  1971-08-19    CA  1.873488e+09      Gold  89833962.0   \n",
       "4  Female  1980-08-10    NC  7.988625e+09      Gold  35782742.0   \n",
       "\n",
       "       incident_cause claim_date claim_area           claim_type  \\\n",
       "0        Driver error 2018-04-10       Auto          Injury only   \n",
       "1        Other causes 2018-04-04       Auto  Material and injury   \n",
       "2      Natural causes 2017-10-17       Auto        Material only   \n",
       "3        Other causes 2018-03-21       Auto  Material and injury   \n",
       "4  Other driver error 2018-07-27       Auto          Injury only   \n",
       "\n",
       "   claim_amount  total_policy_claims fraudulent  flag  \n",
       "0  12470.501953                  1.0        Yes   0.0  \n",
       "1  39192.000000                  1.0        Yes   0.0  \n",
       "2   1621.500000                  2.0        Yes   0.0  \n",
       "3  37040.000000                  1.0         No   1.0  \n",
       "4  35250.000000                  3.0         No   0.0  "
      ]
     },
     "execution_count": 23,
     "metadata": {},
     "output_type": "execute_result"
    }
   ],
   "source": [
    "for col in cat_col:\n",
    "    comb_df[col] = comb_df[col].fillna(comb_df[col].mode()[0])\n",
    "comb_df[con_col] = comb_df[con_col].fillna(comb_df[con_col].mean())\n",
    "comb_df.head()"
   ]
  },
  {
   "cell_type": "code",
   "execution_count": 24,
   "id": "747d14a3",
   "metadata": {
    "ExecuteTime": {
     "end_time": "2023-04-23T14:52:00.971284Z",
     "start_time": "2023-04-23T14:52:00.950336Z"
    }
   },
   "outputs": [
    {
     "data": {
      "text/plain": [
       "0"
      ]
     },
     "execution_count": 24,
     "metadata": {},
     "output_type": "execute_result"
    }
   ],
   "source": [
    "# comb_df[\"incident_cause\"].fillna(0, inplace =True)\n",
    "comb_df[\"State\"].isna().sum()"
   ]
  },
  {
   "cell_type": "code",
   "execution_count": 25,
   "id": "1a01a9bd",
   "metadata": {
    "ExecuteTime": {
     "end_time": "2023-04-23T14:52:28.731582Z",
     "start_time": "2023-04-23T14:52:28.718615Z"
    }
   },
   "outputs": [],
   "source": [
    "#7Calculate the age of customers in years. Based on the age, categorize the customers according to the below criteria"
   ]
  },
  {
   "cell_type": "code",
   "execution_count": 26,
   "id": "fc182b66",
   "metadata": {
    "ExecuteTime": {
     "end_time": "2023-04-23T14:52:37.151506Z",
     "start_time": "2023-04-23T14:52:36.947176Z"
    }
   },
   "outputs": [],
   "source": [
    "comb_df[\"Age\"] = round((comb_df.claim_date - comb_df.DateOfBirth).apply(lambda x: x.days)/365.25, 2)"
   ]
  },
  {
   "cell_type": "code",
   "execution_count": 27,
   "id": "89a06026",
   "metadata": {
    "ExecuteTime": {
     "end_time": "2023-04-23T14:52:46.501850Z",
     "start_time": "2023-04-23T14:52:46.145496Z"
    }
   },
   "outputs": [
    {
     "data": {
      "text/html": [
       "<div>\n",
       "<style scoped>\n",
       "    .dataframe tbody tr th:only-of-type {\n",
       "        vertical-align: middle;\n",
       "    }\n",
       "\n",
       "    .dataframe tbody tr th {\n",
       "        vertical-align: top;\n",
       "    }\n",
       "\n",
       "    .dataframe thead th {\n",
       "        text-align: right;\n",
       "    }\n",
       "</style>\n",
       "<table border=\"1\" class=\"dataframe\">\n",
       "  <thead>\n",
       "    <tr style=\"text-align: right;\">\n",
       "      <th></th>\n",
       "      <th>gender</th>\n",
       "      <th>DateOfBirth</th>\n",
       "      <th>State</th>\n",
       "      <th>Contact</th>\n",
       "      <th>Segment</th>\n",
       "      <th>claim_id</th>\n",
       "      <th>incident_cause</th>\n",
       "      <th>claim_date</th>\n",
       "      <th>claim_area</th>\n",
       "      <th>claim_type</th>\n",
       "      <th>claim_amount</th>\n",
       "      <th>total_policy_claims</th>\n",
       "      <th>fraudulent</th>\n",
       "      <th>flag</th>\n",
       "      <th>Age</th>\n",
       "    </tr>\n",
       "    <tr>\n",
       "      <th>Age_grp</th>\n",
       "      <th></th>\n",
       "      <th></th>\n",
       "      <th></th>\n",
       "      <th></th>\n",
       "      <th></th>\n",
       "      <th></th>\n",
       "      <th></th>\n",
       "      <th></th>\n",
       "      <th></th>\n",
       "      <th></th>\n",
       "      <th></th>\n",
       "      <th></th>\n",
       "      <th></th>\n",
       "      <th></th>\n",
       "      <th></th>\n",
       "    </tr>\n",
       "  </thead>\n",
       "  <tbody>\n",
       "    <tr>\n",
       "      <th>Adult</th>\n",
       "      <td>744</td>\n",
       "      <td>744</td>\n",
       "      <td>744</td>\n",
       "      <td>744</td>\n",
       "      <td>744</td>\n",
       "      <td>744</td>\n",
       "      <td>744</td>\n",
       "      <td>744</td>\n",
       "      <td>744</td>\n",
       "      <td>744</td>\n",
       "      <td>744</td>\n",
       "      <td>736</td>\n",
       "      <td>744</td>\n",
       "      <td>744</td>\n",
       "      <td>744</td>\n",
       "    </tr>\n",
       "    <tr>\n",
       "      <th>Children</th>\n",
       "      <td>8</td>\n",
       "      <td>8</td>\n",
       "      <td>8</td>\n",
       "      <td>8</td>\n",
       "      <td>8</td>\n",
       "      <td>8</td>\n",
       "      <td>8</td>\n",
       "      <td>8</td>\n",
       "      <td>8</td>\n",
       "      <td>8</td>\n",
       "      <td>8</td>\n",
       "      <td>8</td>\n",
       "      <td>8</td>\n",
       "      <td>8</td>\n",
       "      <td>8</td>\n",
       "    </tr>\n",
       "    <tr>\n",
       "      <th>NaN</th>\n",
       "      <td>7</td>\n",
       "      <td>7</td>\n",
       "      <td>7</td>\n",
       "      <td>7</td>\n",
       "      <td>7</td>\n",
       "      <td>0</td>\n",
       "      <td>7</td>\n",
       "      <td>0</td>\n",
       "      <td>7</td>\n",
       "      <td>7</td>\n",
       "      <td>7</td>\n",
       "      <td>0</td>\n",
       "      <td>7</td>\n",
       "      <td>7</td>\n",
       "      <td>0</td>\n",
       "    </tr>\n",
       "    <tr>\n",
       "      <th>Youth</th>\n",
       "      <td>326</td>\n",
       "      <td>326</td>\n",
       "      <td>326</td>\n",
       "      <td>326</td>\n",
       "      <td>326</td>\n",
       "      <td>326</td>\n",
       "      <td>326</td>\n",
       "      <td>326</td>\n",
       "      <td>326</td>\n",
       "      <td>326</td>\n",
       "      <td>326</td>\n",
       "      <td>324</td>\n",
       "      <td>326</td>\n",
       "      <td>326</td>\n",
       "      <td>326</td>\n",
       "    </tr>\n",
       "  </tbody>\n",
       "</table>\n",
       "</div>"
      ],
      "text/plain": [
       "          gender  DateOfBirth  State  Contact  Segment  claim_id  \\\n",
       "Age_grp                                                            \n",
       "Adult        744          744    744      744      744       744   \n",
       "Children       8            8      8        8        8         8   \n",
       "NaN            7            7      7        7        7         0   \n",
       "Youth        326          326    326      326      326       326   \n",
       "\n",
       "          incident_cause  claim_date  claim_area  claim_type  claim_amount  \\\n",
       "Age_grp                                                                      \n",
       "Adult                744         744         744         744           744   \n",
       "Children               8           8           8           8             8   \n",
       "NaN                    7           0           7           7             7   \n",
       "Youth                326         326         326         326           326   \n",
       "\n",
       "          total_policy_claims  fraudulent  flag  Age  \n",
       "Age_grp                                               \n",
       "Adult                     736         744   744  744  \n",
       "Children                    8           8     8    8  \n",
       "NaN                         0           7     7    0  \n",
       "Youth                     324         326   326  326  "
      ]
     },
     "execution_count": 27,
     "metadata": {},
     "output_type": "execute_result"
    }
   ],
   "source": [
    "comb_df[\"Age_grp\"] = IF(comb_df.Age < 18, \"Children\",\n",
    "                        IF(comb_df.Age < 30, \"Youth\",\n",
    "                         IF(comb_df.Age < 60, \"Adult\",\n",
    "                          IF(comb_df.Age < 100, \"Senior\", \"NaN\"\n",
    "                           \n",
    "                          )\n",
    "                         )\n",
    "                        )\n",
    "                       )\n",
    "comb_df[\"Age_grp\"] = comb_df[\"Age_grp\"].fillna(comb_df[\"Age_grp\"].mode())\n",
    "comb_df.groupby(by = \"Age_grp\").count()\n",
    "# comb_df.head()"
   ]
  },
  {
   "cell_type": "code",
   "execution_count": 28,
   "id": "d8595588",
   "metadata": {
    "ExecuteTime": {
     "end_time": "2023-04-23T14:53:41.061042Z",
     "start_time": "2023-04-23T14:53:41.037037Z"
    }
   },
   "outputs": [],
   "source": [
    "#8What is the average amount claimed by the customers from various segments?"
   ]
  },
  {
   "cell_type": "code",
   "execution_count": 29,
   "id": "b1b6e98c",
   "metadata": {
    "ExecuteTime": {
     "end_time": "2023-04-23T14:53:43.527074Z",
     "start_time": "2023-04-23T14:53:43.385694Z"
    }
   },
   "outputs": [
    {
     "data": {
      "text/html": [
       "<div>\n",
       "<style scoped>\n",
       "    .dataframe tbody tr th:only-of-type {\n",
       "        vertical-align: middle;\n",
       "    }\n",
       "\n",
       "    .dataframe tbody tr th {\n",
       "        vertical-align: top;\n",
       "    }\n",
       "\n",
       "    .dataframe thead th {\n",
       "        text-align: right;\n",
       "    }\n",
       "</style>\n",
       "<table border=\"1\" class=\"dataframe\">\n",
       "  <thead>\n",
       "    <tr style=\"text-align: right;\">\n",
       "      <th></th>\n",
       "      <th>claim_amount</th>\n",
       "    </tr>\n",
       "    <tr>\n",
       "      <th>Segment</th>\n",
       "      <th></th>\n",
       "    </tr>\n",
       "  </thead>\n",
       "  <tbody>\n",
       "    <tr>\n",
       "      <th>Gold</th>\n",
       "      <td>12755.710938</td>\n",
       "    </tr>\n",
       "    <tr>\n",
       "      <th>Platinum</th>\n",
       "      <td>12370.138672</td>\n",
       "    </tr>\n",
       "    <tr>\n",
       "      <th>Silver</th>\n",
       "      <td>12271.163086</td>\n",
       "    </tr>\n",
       "  </tbody>\n",
       "</table>\n",
       "</div>"
      ],
      "text/plain": [
       "          claim_amount\n",
       "Segment               \n",
       "Gold      12755.710938\n",
       "Platinum  12370.138672\n",
       "Silver    12271.163086"
      ]
     },
     "execution_count": 29,
     "metadata": {},
     "output_type": "execute_result"
    }
   ],
   "source": [
    "comb_df.groupby(by = \"Segment\")[[\"claim_amount\"]].mean()"
   ]
  },
  {
   "cell_type": "code",
   "execution_count": 30,
   "id": "c65f1c23",
   "metadata": {
    "ExecuteTime": {
     "end_time": "2023-04-23T14:54:17.075433Z",
     "start_time": "2023-04-23T14:54:17.051399Z"
    }
   },
   "outputs": [],
   "source": [
    "#9What is the total claim amount based on incident cause for all the claims that have been done at least 20 days prior to 1st of October, 2018."
   ]
  },
  {
   "cell_type": "code",
   "execution_count": 31,
   "id": "9df79af4",
   "metadata": {
    "ExecuteTime": {
     "end_time": "2023-04-23T14:54:20.333045Z",
     "start_time": "2023-04-23T14:54:20.285008Z"
    }
   },
   "outputs": [
    {
     "data": {
      "text/plain": [
       "incident_cause\n",
       "total_Crime                  724462.5\n",
       "total_Driver error          3264286.0\n",
       "total_Natural causes        1312706.0\n",
       "total_Other causes          3725038.5\n",
       "total_Other driver error    3318806.5\n",
       "Name: claim_amount, dtype: float32"
      ]
     },
     "execution_count": 31,
     "metadata": {},
     "output_type": "execute_result"
    }
   ],
   "source": [
    "comb_df.loc[comb_df.claim_date < \"2018-09-10\",:].groupby(\"incident_cause\")[\"claim_amount\"].sum().add_prefix(\"total_\")"
   ]
  },
  {
   "cell_type": "code",
   "execution_count": 32,
   "id": "73f94a72",
   "metadata": {
    "ExecuteTime": {
     "end_time": "2023-04-23T14:54:46.955606Z",
     "start_time": "2023-04-23T14:54:46.931566Z"
    }
   },
   "outputs": [],
   "source": [
    "#10)How many adults from TX, DE and AK claimed insurance for driver related issues and causes?"
   ]
  },
  {
   "cell_type": "code",
   "execution_count": 33,
   "id": "26374b2b",
   "metadata": {
    "ExecuteTime": {
     "end_time": "2023-04-23T14:54:56.130209Z",
     "start_time": "2023-04-23T14:54:56.098202Z"
    }
   },
   "outputs": [
    {
     "data": {
      "text/plain": [
       "State\n",
       "AK    10\n",
       "DE    15\n",
       "TX    10\n",
       "Name: State, dtype: int64"
      ]
     },
     "execution_count": 33,
     "metadata": {},
     "output_type": "execute_result"
    }
   ],
   "source": [
    "comb_df.loc[(comb_df.incident_cause.str.lower().str.contains(\"driver\") \n",
    "             & ((comb_df.State == \"TX\") | (comb_df.State == \"DE\") | (comb_df.State == \"AK\"))),:].groupby(by = \"State\")[\"State\"].count()"
   ]
  },
  {
   "cell_type": "code",
   "execution_count": 34,
   "id": "f390bb1b",
   "metadata": {
    "ExecuteTime": {
     "end_time": "2023-04-23T14:56:01.390875Z",
     "start_time": "2023-04-23T14:56:01.383895Z"
    }
   },
   "outputs": [],
   "source": [
    "#11)Draw a pie chart between the aggregated value of claim amount based on gender and segment. Represent the claim amount as a percentage onthe pie chart."
   ]
  },
  {
   "cell_type": "code",
   "execution_count": 35,
   "id": "e1746d2d",
   "metadata": {
    "ExecuteTime": {
     "end_time": "2023-04-23T14:56:13.654762Z",
     "start_time": "2023-04-23T14:56:13.426294Z"
    }
   },
   "outputs": [
    {
     "data": {
      "text/html": [
       "<div>\n",
       "<style scoped>\n",
       "    .dataframe tbody tr th:only-of-type {\n",
       "        vertical-align: middle;\n",
       "    }\n",
       "\n",
       "    .dataframe tbody tr th {\n",
       "        vertical-align: top;\n",
       "    }\n",
       "\n",
       "    .dataframe thead th {\n",
       "        text-align: right;\n",
       "    }\n",
       "</style>\n",
       "<table border=\"1\" class=\"dataframe\">\n",
       "  <thead>\n",
       "    <tr style=\"text-align: right;\">\n",
       "      <th></th>\n",
       "      <th>gender</th>\n",
       "      <th>Segment</th>\n",
       "      <th>claim_amount</th>\n",
       "    </tr>\n",
       "  </thead>\n",
       "  <tbody>\n",
       "    <tr>\n",
       "      <th>0</th>\n",
       "      <td>Female</td>\n",
       "      <td>Gold</td>\n",
       "      <td>2122234.0</td>\n",
       "    </tr>\n",
       "    <tr>\n",
       "      <th>1</th>\n",
       "      <td>Female</td>\n",
       "      <td>Platinum</td>\n",
       "      <td>2381974.0</td>\n",
       "    </tr>\n",
       "    <tr>\n",
       "      <th>2</th>\n",
       "      <td>Female</td>\n",
       "      <td>Silver</td>\n",
       "      <td>1935970.0</td>\n",
       "    </tr>\n",
       "    <tr>\n",
       "      <th>3</th>\n",
       "      <td>Male</td>\n",
       "      <td>Gold</td>\n",
       "      <td>2622890.5</td>\n",
       "    </tr>\n",
       "    <tr>\n",
       "      <th>4</th>\n",
       "      <td>Male</td>\n",
       "      <td>Platinum</td>\n",
       "      <td>2120756.5</td>\n",
       "    </tr>\n",
       "  </tbody>\n",
       "</table>\n",
       "</div>"
      ],
      "text/plain": [
       "   gender   Segment  claim_amount\n",
       "0  Female      Gold     2122234.0\n",
       "1  Female  Platinum     2381974.0\n",
       "2  Female    Silver     1935970.0\n",
       "3    Male      Gold     2622890.5\n",
       "4    Male  Platinum     2120756.5"
      ]
     },
     "execution_count": 35,
     "metadata": {},
     "output_type": "execute_result"
    }
   ],
   "source": [
    "f1 = comb_df.groupby(by = [\"gender\",\"Segment\"])[\"claim_amount\"].sum().reset_index()\n",
    "f1.head()"
   ]
  },
  {
   "cell_type": "code",
   "execution_count": 36,
   "id": "be3e9fd9",
   "metadata": {
    "ExecuteTime": {
     "end_time": "2023-04-23T14:56:27.209073Z",
     "start_time": "2023-04-23T14:56:27.002054Z"
    }
   },
   "outputs": [
    {
     "data": {
      "text/html": [
       "<div>\n",
       "<style scoped>\n",
       "    .dataframe tbody tr th:only-of-type {\n",
       "        vertical-align: middle;\n",
       "    }\n",
       "\n",
       "    .dataframe tbody tr th {\n",
       "        vertical-align: top;\n",
       "    }\n",
       "\n",
       "    .dataframe thead th {\n",
       "        text-align: right;\n",
       "    }\n",
       "</style>\n",
       "<table border=\"1\" class=\"dataframe\">\n",
       "  <thead>\n",
       "    <tr style=\"text-align: right;\">\n",
       "      <th>gender</th>\n",
       "      <th>Female</th>\n",
       "      <th>Male</th>\n",
       "    </tr>\n",
       "    <tr>\n",
       "      <th>Segment</th>\n",
       "      <th></th>\n",
       "      <th></th>\n",
       "    </tr>\n",
       "  </thead>\n",
       "  <tbody>\n",
       "    <tr>\n",
       "      <th>Gold</th>\n",
       "      <td>2122234.0</td>\n",
       "      <td>2622890.5</td>\n",
       "    </tr>\n",
       "    <tr>\n",
       "      <th>Platinum</th>\n",
       "      <td>2381974.0</td>\n",
       "      <td>2120756.5</td>\n",
       "    </tr>\n",
       "    <tr>\n",
       "      <th>Silver</th>\n",
       "      <td>1935970.0</td>\n",
       "      <td>2346666.0</td>\n",
       "    </tr>\n",
       "  </tbody>\n",
       "</table>\n",
       "</div>"
      ],
      "text/plain": [
       "gender       Female       Male\n",
       "Segment                       \n",
       "Gold      2122234.0  2622890.5\n",
       "Platinum  2381974.0  2120756.5\n",
       "Silver    1935970.0  2346666.0"
      ]
     },
     "execution_count": 36,
     "metadata": {},
     "output_type": "execute_result"
    }
   ],
   "source": [
    "res = f1.pivot(index = \"Segment\", columns = \"gender\", values = \"claim_amount\")\n",
    "res"
   ]
  },
  {
   "cell_type": "code",
   "execution_count": 37,
   "id": "79e96739",
   "metadata": {
    "ExecuteTime": {
     "end_time": "2023-04-23T14:56:40.240057Z",
     "start_time": "2023-04-23T14:56:36.296998Z"
    }
   },
   "outputs": [
    {
     "data": {
      "image/png": "[encoded data removed]",
      "text/plain": [
       "<Figure size 1500x800 with 3 Axes>"
      ]
     },
     "metadata": {},
     "output_type": "display_data"
    }
   ],
   "source": [
    "res.T.plot(kind = \"pie\", subplots = True, legend = False, figsize = (15,8))\n",
    "plt.show()"
   ]
  },
  {
   "cell_type": "code",
   "execution_count": 38,
   "id": "b916e1d2",
   "metadata": {
    "ExecuteTime": {
     "end_time": "2023-04-23T14:57:07.188846Z",
     "start_time": "2023-04-23T14:57:07.181866Z"
    }
   },
   "outputs": [],
   "source": [
    "#12 Among males and females, which gender had claimed the most for any type of driver related issues? E.g. This metric can be compared using a bar chart"
   ]
  },
  {
   "cell_type": "code",
   "execution_count": 39,
   "id": "917418cb",
   "metadata": {
    "ExecuteTime": {
     "end_time": "2023-04-23T14:57:17.678499Z",
     "start_time": "2023-04-23T14:57:17.647582Z"
    }
   },
   "outputs": [
    {
     "data": {
      "text/html": [
       "<div>\n",
       "<style scoped>\n",
       "    .dataframe tbody tr th:only-of-type {\n",
       "        vertical-align: middle;\n",
       "    }\n",
       "\n",
       "    .dataframe tbody tr th {\n",
       "        vertical-align: top;\n",
       "    }\n",
       "\n",
       "    .dataframe thead th {\n",
       "        text-align: right;\n",
       "    }\n",
       "</style>\n",
       "<table border=\"1\" class=\"dataframe\">\n",
       "  <thead>\n",
       "    <tr style=\"text-align: right;\">\n",
       "      <th></th>\n",
       "      <th>gender</th>\n",
       "      <th>CountOf_gender</th>\n",
       "    </tr>\n",
       "  </thead>\n",
       "  <tbody>\n",
       "    <tr>\n",
       "      <th>0</th>\n",
       "      <td>Female</td>\n",
       "      <td>221</td>\n",
       "    </tr>\n",
       "    <tr>\n",
       "      <th>1</th>\n",
       "      <td>Male</td>\n",
       "      <td>280</td>\n",
       "    </tr>\n",
       "  </tbody>\n",
       "</table>\n",
       "</div>"
      ],
      "text/plain": [
       "   gender  CountOf_gender\n",
       "0  Female             221\n",
       "1    Male             280"
      ]
     },
     "execution_count": 39,
     "metadata": {},
     "output_type": "execute_result"
    }
   ],
   "source": [
    "f2 = comb_df.loc[(comb_df.incident_cause.str.lower().str.contains(\"driver\"))].groupby(by = \"gender\")[[\"gender\"]].count().add_prefix(\"CountOf_\").reset_index()\n",
    "f2"
   ]
  },
  {
   "cell_type": "code",
   "execution_count": 40,
   "id": "ed912f26",
   "metadata": {
    "ExecuteTime": {
     "end_time": "2023-04-23T14:57:27.208053Z",
     "start_time": "2023-04-23T14:57:26.429558Z"
    }
   },
   "outputs": [
    {
     "data": {
      "image/png": "[encoded data removed]",
      "text/plain": [
       "<Figure size 640x480 with 1 Axes>"
      ]
     },
     "metadata": {},
     "output_type": "display_data"
    }
   ],
   "source": [
    "sns.barplot(x = \"gender\", y = \"CountOf_gender\", data = f2 )\n",
    "plt.show()"
   ]
  },
  {
   "cell_type": "code",
   "execution_count": 41,
   "id": "7f897a76",
   "metadata": {
    "ExecuteTime": {
     "end_time": "2023-04-23T14:57:47.396737Z",
     "start_time": "2023-04-23T14:57:47.389755Z"
    }
   },
   "outputs": [],
   "source": [
    "#13) Which age group had the maximum fraudulent policy claims? Visualize it on a bar chart."
   ]
  },
  {
   "cell_type": "code",
   "execution_count": 42,
   "id": "6176aa4d",
   "metadata": {
    "ExecuteTime": {
     "end_time": "2023-04-23T14:57:58.356715Z",
     "start_time": "2023-04-23T14:57:58.329785Z"
    }
   },
   "outputs": [
    {
     "data": {
      "text/html": [
       "<div>\n",
       "<style scoped>\n",
       "    .dataframe tbody tr th:only-of-type {\n",
       "        vertical-align: middle;\n",
       "    }\n",
       "\n",
       "    .dataframe tbody tr th {\n",
       "        vertical-align: top;\n",
       "    }\n",
       "\n",
       "    .dataframe thead th {\n",
       "        text-align: right;\n",
       "    }\n",
       "</style>\n",
       "<table border=\"1\" class=\"dataframe\">\n",
       "  <thead>\n",
       "    <tr style=\"text-align: right;\">\n",
       "      <th></th>\n",
       "      <th>fraudulent</th>\n",
       "    </tr>\n",
       "    <tr>\n",
       "      <th>Age_grp</th>\n",
       "      <th></th>\n",
       "    </tr>\n",
       "  </thead>\n",
       "  <tbody>\n",
       "    <tr>\n",
       "      <th>Adult</th>\n",
       "      <td>744</td>\n",
       "    </tr>\n",
       "    <tr>\n",
       "      <th>Children</th>\n",
       "      <td>8</td>\n",
       "    </tr>\n",
       "    <tr>\n",
       "      <th>NaN</th>\n",
       "      <td>7</td>\n",
       "    </tr>\n",
       "    <tr>\n",
       "      <th>Youth</th>\n",
       "      <td>326</td>\n",
       "    </tr>\n",
       "  </tbody>\n",
       "</table>\n",
       "</div>"
      ],
      "text/plain": [
       "          fraudulent\n",
       "Age_grp             \n",
       "Adult            744\n",
       "Children           8\n",
       "NaN                7\n",
       "Youth            326"
      ]
     },
     "execution_count": 42,
     "metadata": {},
     "output_type": "execute_result"
    }
   ],
   "source": [
    "comb_df.groupby(by = \"Age_grp\")[[\"fraudulent\"]].count()"
   ]
  },
  {
   "cell_type": "code",
   "execution_count": 43,
   "id": "7ebff1cb",
   "metadata": {
    "ExecuteTime": {
     "end_time": "2023-04-23T14:58:07.854031Z",
     "start_time": "2023-04-23T14:58:07.828065Z"
    }
   },
   "outputs": [
    {
     "data": {
      "text/html": [
       "<div>\n",
       "<style scoped>\n",
       "    .dataframe tbody tr th:only-of-type {\n",
       "        vertical-align: middle;\n",
       "    }\n",
       "\n",
       "    .dataframe tbody tr th {\n",
       "        vertical-align: top;\n",
       "    }\n",
       "\n",
       "    .dataframe thead th {\n",
       "        text-align: right;\n",
       "    }\n",
       "</style>\n",
       "<table border=\"1\" class=\"dataframe\">\n",
       "  <thead>\n",
       "    <tr style=\"text-align: right;\">\n",
       "      <th></th>\n",
       "      <th>gender</th>\n",
       "      <th>DateOfBirth</th>\n",
       "      <th>State</th>\n",
       "      <th>Contact</th>\n",
       "      <th>Segment</th>\n",
       "      <th>claim_id</th>\n",
       "      <th>incident_cause</th>\n",
       "      <th>claim_date</th>\n",
       "      <th>claim_area</th>\n",
       "      <th>claim_type</th>\n",
       "      <th>claim_amount</th>\n",
       "      <th>total_policy_claims</th>\n",
       "      <th>fraudulent</th>\n",
       "      <th>flag</th>\n",
       "      <th>Age</th>\n",
       "      <th>Age_grp</th>\n",
       "    </tr>\n",
       "  </thead>\n",
       "  <tbody>\n",
       "  </tbody>\n",
       "</table>\n",
       "</div>"
      ],
      "text/plain": [
       "Empty DataFrame\n",
       "Columns: [gender, DateOfBirth, State, Contact, Segment, claim_id, incident_cause, claim_date, claim_area, claim_type, claim_amount, total_policy_claims, fraudulent, flag, Age, Age_grp]\n",
       "Index: []"
      ]
     },
     "execution_count": 43,
     "metadata": {},
     "output_type": "execute_result"
    }
   ],
   "source": [
    "comb_df[(comb_df.Age_grp == np.nan)]"
   ]
  },
  {
   "cell_type": "code",
   "execution_count": 44,
   "id": "f3ede4e7",
   "metadata": {
    "ExecuteTime": {
     "end_time": "2023-04-23T14:58:16.448150Z",
     "start_time": "2023-04-23T14:58:16.435183Z"
    }
   },
   "outputs": [
    {
     "name": "stdout",
     "output_type": "stream",
     "text": [
      "Adult\n"
     ]
    }
   ],
   "source": [
    "val = comb_df['Age_grp'].mode()[0]\n",
    "print(val)\n",
    "comb_df.loc[:,\"Age_grp\"] = comb_df.loc[:,'Age_grp'].fillna(value = val)"
   ]
  },
  {
   "cell_type": "code",
   "execution_count": 45,
   "id": "41d1c007",
   "metadata": {
    "ExecuteTime": {
     "end_time": "2023-04-23T14:58:23.812552Z",
     "start_time": "2023-04-23T14:58:23.788580Z"
    }
   },
   "outputs": [
    {
     "data": {
      "text/html": [
       "<div>\n",
       "<style scoped>\n",
       "    .dataframe tbody tr th:only-of-type {\n",
       "        vertical-align: middle;\n",
       "    }\n",
       "\n",
       "    .dataframe tbody tr th {\n",
       "        vertical-align: top;\n",
       "    }\n",
       "\n",
       "    .dataframe thead th {\n",
       "        text-align: right;\n",
       "    }\n",
       "</style>\n",
       "<table border=\"1\" class=\"dataframe\">\n",
       "  <thead>\n",
       "    <tr style=\"text-align: right;\">\n",
       "      <th></th>\n",
       "      <th>gender</th>\n",
       "      <th>DateOfBirth</th>\n",
       "      <th>State</th>\n",
       "      <th>Contact</th>\n",
       "      <th>Segment</th>\n",
       "      <th>claim_id</th>\n",
       "      <th>incident_cause</th>\n",
       "      <th>claim_date</th>\n",
       "      <th>claim_area</th>\n",
       "      <th>claim_type</th>\n",
       "      <th>claim_amount</th>\n",
       "      <th>total_policy_claims</th>\n",
       "      <th>fraudulent</th>\n",
       "      <th>flag</th>\n",
       "      <th>Age</th>\n",
       "      <th>Age_grp</th>\n",
       "    </tr>\n",
       "  </thead>\n",
       "  <tbody>\n",
       "  </tbody>\n",
       "</table>\n",
       "</div>"
      ],
      "text/plain": [
       "Empty DataFrame\n",
       "Columns: [gender, DateOfBirth, State, Contact, Segment, claim_id, incident_cause, claim_date, claim_area, claim_type, claim_amount, total_policy_claims, fraudulent, flag, Age, Age_grp]\n",
       "Index: []"
      ]
     },
     "execution_count": 45,
     "metadata": {},
     "output_type": "execute_result"
    }
   ],
   "source": [
    "comb_df[(comb_df.Age_grp == \"nan\")]"
   ]
  },
  {
   "cell_type": "code",
   "execution_count": 46,
   "id": "6b3868d2",
   "metadata": {
    "ExecuteTime": {
     "end_time": "2023-04-23T14:58:33.847368Z",
     "start_time": "2023-04-23T14:58:33.835393Z"
    }
   },
   "outputs": [
    {
     "data": {
      "text/plain": [
       "'Adult'"
      ]
     },
     "execution_count": 46,
     "metadata": {},
     "output_type": "execute_result"
    }
   ],
   "source": [
    "comb_df['Age_grp'].mode()[0]"
   ]
  },
  {
   "cell_type": "code",
   "execution_count": 47,
   "id": "7b8635d9",
   "metadata": {
    "ExecuteTime": {
     "end_time": "2023-04-23T14:58:57.204299Z",
     "start_time": "2023-04-23T14:58:57.196321Z"
    }
   },
   "outputs": [],
   "source": [
    "#14 Visualize the monthly trend of the total amount that has been claimed by the customers. Ensure that on the “month” axis, the month is in a chronological order not alphabetical order."
   ]
  },
  {
   "cell_type": "code",
   "execution_count": 48,
   "id": "031a6d37",
   "metadata": {
    "ExecuteTime": {
     "end_time": "2023-04-23T14:59:47.638823Z",
     "start_time": "2023-04-23T14:59:47.624862Z"
    }
   },
   "outputs": [],
   "source": [
    "monthly_trend = comb_df.groupby([\"claim_date\"])[[\"claim_amount\"]].sum().reset_index()"
   ]
  },
  {
   "cell_type": "code",
   "execution_count": 49,
   "id": "407ed315",
   "metadata": {
    "ExecuteTime": {
     "end_time": "2023-04-23T14:59:57.364085Z",
     "start_time": "2023-04-23T14:59:57.351118Z"
    }
   },
   "outputs": [],
   "source": [
    "monthly_trend['Monthly'] = monthly_trend['claim_date'].apply(lambda x:pd.Timestamp.strftime(x,format=\"%B\"))\n",
    "monthly_trend['Yearly'] = monthly_trend['claim_date'].apply(lambda x:pd.Timestamp.strftime(x,format=\"%Y\"))"
   ]
  },
  {
   "cell_type": "code",
   "execution_count": 50,
   "id": "b57c85cb",
   "metadata": {
    "ExecuteTime": {
     "end_time": "2023-04-23T15:00:05.831873Z",
     "start_time": "2023-04-23T15:00:05.815649Z"
    }
   },
   "outputs": [],
   "source": [
    "monthly_trend_data = monthly_trend.groupby([\"Monthly\"])[[\"claim_amount\"]].sum().reset_index()"
   ]
  },
  {
   "cell_type": "code",
   "execution_count": 51,
   "id": "0527a74d",
   "metadata": {
    "ExecuteTime": {
     "end_time": "2023-04-23T15:00:13.044685Z",
     "start_time": "2023-04-23T15:00:13.019741Z"
    }
   },
   "outputs": [
    {
     "data": {
      "text/html": [
       "<div>\n",
       "<style scoped>\n",
       "    .dataframe tbody tr th:only-of-type {\n",
       "        vertical-align: middle;\n",
       "    }\n",
       "\n",
       "    .dataframe tbody tr th {\n",
       "        vertical-align: top;\n",
       "    }\n",
       "\n",
       "    .dataframe thead th {\n",
       "        text-align: right;\n",
       "    }\n",
       "</style>\n",
       "<table border=\"1\" class=\"dataframe\">\n",
       "  <thead>\n",
       "    <tr style=\"text-align: right;\">\n",
       "      <th></th>\n",
       "      <th>Monthly</th>\n",
       "      <th>claim_amount</th>\n",
       "    </tr>\n",
       "  </thead>\n",
       "  <tbody>\n",
       "    <tr>\n",
       "      <th>0</th>\n",
       "      <td>April</td>\n",
       "      <td>1276071.5</td>\n",
       "    </tr>\n",
       "    <tr>\n",
       "      <th>1</th>\n",
       "      <td>August</td>\n",
       "      <td>911203.5</td>\n",
       "    </tr>\n",
       "    <tr>\n",
       "      <th>2</th>\n",
       "      <td>December</td>\n",
       "      <td>696701.5</td>\n",
       "    </tr>\n",
       "    <tr>\n",
       "      <th>3</th>\n",
       "      <td>February</td>\n",
       "      <td>1133107.0</td>\n",
       "    </tr>\n",
       "    <tr>\n",
       "      <th>4</th>\n",
       "      <td>January</td>\n",
       "      <td>1332012.0</td>\n",
       "    </tr>\n",
       "    <tr>\n",
       "      <th>5</th>\n",
       "      <td>July</td>\n",
       "      <td>1379035.0</td>\n",
       "    </tr>\n",
       "    <tr>\n",
       "      <th>6</th>\n",
       "      <td>June</td>\n",
       "      <td>1276333.0</td>\n",
       "    </tr>\n",
       "    <tr>\n",
       "      <th>7</th>\n",
       "      <td>March</td>\n",
       "      <td>1320094.0</td>\n",
       "    </tr>\n",
       "    <tr>\n",
       "      <th>8</th>\n",
       "      <td>May</td>\n",
       "      <td>1114211.5</td>\n",
       "    </tr>\n",
       "    <tr>\n",
       "      <th>9</th>\n",
       "      <td>November</td>\n",
       "      <td>601125.0</td>\n",
       "    </tr>\n",
       "    <tr>\n",
       "      <th>10</th>\n",
       "      <td>October</td>\n",
       "      <td>1422655.5</td>\n",
       "    </tr>\n",
       "    <tr>\n",
       "      <th>11</th>\n",
       "      <td>September</td>\n",
       "      <td>980648.0</td>\n",
       "    </tr>\n",
       "  </tbody>\n",
       "</table>\n",
       "</div>"
      ],
      "text/plain": [
       "      Monthly  claim_amount\n",
       "0       April     1276071.5\n",
       "1      August      911203.5\n",
       "2    December      696701.5\n",
       "3    February     1133107.0\n",
       "4     January     1332012.0\n",
       "5        July     1379035.0\n",
       "6        June     1276333.0\n",
       "7       March     1320094.0\n",
       "8         May     1114211.5\n",
       "9    November      601125.0\n",
       "10    October     1422655.5\n",
       "11  September      980648.0"
      ]
     },
     "execution_count": 51,
     "metadata": {},
     "output_type": "execute_result"
    }
   ],
   "source": [
    "monthly_trend_data"
   ]
  },
  {
   "cell_type": "code",
   "execution_count": 52,
   "id": "a17d550d",
   "metadata": {
    "ExecuteTime": {
     "end_time": "2023-04-23T15:00:24.660662Z",
     "start_time": "2023-04-23T15:00:24.162000Z"
    }
   },
   "outputs": [
    {
     "data": {
      "text/plain": [
       "[<matplotlib.lines.Line2D at 0x28af41800a0>]"
      ]
     },
     "execution_count": 52,
     "metadata": {},
     "output_type": "execute_result"
    },
    {
     "data": {
      "image/png": "[encoded data removed]",
      "text/plain": [
       "<Figure size 640x480 with 1 Axes>"
      ]
     },
     "metadata": {},
     "output_type": "display_data"
    }
   ],
   "source": [
    "plt.plot(monthly_trend_data['Monthly'], monthly_trend_data['claim_amount'], label = 'Trend Line')"
   ]
  },
  {
   "cell_type": "code",
   "execution_count": 53,
   "id": "6943ef80",
   "metadata": {
    "ExecuteTime": {
     "end_time": "2023-04-23T15:01:02.069640Z",
     "start_time": "2023-04-23T15:01:02.062652Z"
    }
   },
   "outputs": [],
   "source": [
    "#15) "
   ]
  },
  {
   "cell_type": "code",
   "execution_count": 54,
   "id": "ba86457a",
   "metadata": {
    "ExecuteTime": {
     "end_time": "2023-04-23T15:01:04.573627Z",
     "start_time": "2023-04-23T15:01:04.553674Z"
    }
   },
   "outputs": [],
   "source": [
    "Avg_Claim_Amt = comb_df.groupby([\"gender\",\"Age_grp\",\"fraudulent\"])[[\"claim_amount\"]].mean().reset_index()"
   ]
  },
  {
   "cell_type": "code",
   "execution_count": 55,
   "id": "1447222d",
   "metadata": {
    "ExecuteTime": {
     "end_time": "2023-04-23T15:01:13.284569Z",
     "start_time": "2023-04-23T15:01:13.268575Z"
    }
   },
   "outputs": [],
   "source": [
    "Avg_Claim_Amt_Male = Avg_Claim_Amt.loc[ Avg_Claim_Amt.gender == 'Male', ['claim_amount','Age_grp','fraudulent'] ]\n",
    "Avg_Claim_Amt_Female = Avg_Claim_Amt.loc[ Avg_Claim_Amt.gender == 'Female', ['claim_amount','Age_grp','fraudulent'] ]"
   ]
  },
  {
   "cell_type": "code",
   "execution_count": 56,
   "id": "144ea8bb",
   "metadata": {
    "ExecuteTime": {
     "end_time": "2023-04-23T15:01:21.238248Z",
     "start_time": "2023-04-23T15:01:21.209327Z"
    }
   },
   "outputs": [],
   "source": [
    "Avg_Claim_Amt_Male_fraudulent = Avg_Claim_Amt_Male.loc[ Avg_Claim_Amt.fraudulent == 'Yes', ['claim_amount','Age_grp'] ]\n",
    "Avg_Claim_Amt_Male_nonfraudulent = Avg_Claim_Amt_Male.loc[ Avg_Claim_Amt.fraudulent == 'No', ['claim_amount','Age_grp'] ]\n",
    "Avg_Claim_Amt_Female_fraudulent = Avg_Claim_Amt_Female.loc[ Avg_Claim_Amt.fraudulent == 'Yes', ['claim_amount','Age_grp'] ]\n",
    "Avg_Claim_Amt_Female_nonfraudulent = Avg_Claim_Amt_Female.loc[ Avg_Claim_Amt.fraudulent == 'No', ['claim_amount','Age_grp'] ]"
   ]
  },
  {
   "cell_type": "code",
   "execution_count": 57,
   "id": "24636f0a",
   "metadata": {
    "ExecuteTime": {
     "end_time": "2023-04-23T15:01:29.241458Z",
     "start_time": "2023-04-23T15:01:28.966799Z"
    }
   },
   "outputs": [
    {
     "data": {
      "image/png": "[encoded data removed]",
      "text/plain": [
       "<Figure size 640x480 with 1 Axes>"
      ]
     },
     "metadata": {},
     "output_type": "display_data"
    }
   ],
   "source": [
    "plt.bar(Avg_Claim_Amt_Male_fraudulent.Age_grp , Avg_Claim_Amt_Male_fraudulent.claim_amount)\n",
    "plt.title('Avg_Claim_Amt_Male_fraudulent Vs claim_amount')\n",
    "plt.xlabel('Age Group')\n",
    "plt.ylabel('Claim Amount')\n",
    "plt.show()"
   ]
  },
  {
   "cell_type": "code",
   "execution_count": 58,
   "id": "a2d6bd3d",
   "metadata": {
    "ExecuteTime": {
     "end_time": "2023-04-23T15:01:38.176795Z",
     "start_time": "2023-04-23T15:01:37.919894Z"
    }
   },
   "outputs": [
    {
     "data": {
      "image/png": "[encoded data removed]",
      "text/plain": [
       "<Figure size 640x480 with 1 Axes>"
      ]
     },
     "metadata": {},
     "output_type": "display_data"
    }
   ],
   "source": [
    "plt.bar(Avg_Claim_Amt_Male_nonfraudulent.Age_grp , Avg_Claim_Amt_Male_nonfraudulent.claim_amount)\n",
    "plt.title('Avg_Claim_Amt_Male_nonfraudulent Vs claim_amount')\n",
    "plt.xlabel('Age Group')\n",
    "plt.ylabel('Claim Amount')\n",
    "plt.show()"
   ]
  },
  {
   "cell_type": "code",
   "execution_count": 59,
   "id": "e9ba8c26",
   "metadata": {
    "ExecuteTime": {
     "end_time": "2023-04-23T15:01:47.600662Z",
     "start_time": "2023-04-23T15:01:47.352746Z"
    }
   },
   "outputs": [
    {
     "data": {
      "image/png": "[encoded data removed]",
      "text/plain": [
       "<Figure size 640x480 with 1 Axes>"
      ]
     },
     "metadata": {},
     "output_type": "display_data"
    }
   ],
   "source": [
    "plt.bar(Avg_Claim_Amt_Female_fraudulent.Age_grp , Avg_Claim_Amt_Female_fraudulent.claim_amount)\n",
    "plt.title('Avg_Claim_Amt_Female_fraudulent Vs claim_amount')\n",
    "plt.xlabel('Age Group')\n",
    "plt.ylabel('Claim Amount')\n",
    "plt.show()"
   ]
  },
  {
   "cell_type": "code",
   "execution_count": 60,
   "id": "5e9e7477",
   "metadata": {
    "ExecuteTime": {
     "end_time": "2023-04-23T15:01:56.926455Z",
     "start_time": "2023-04-23T15:01:56.660256Z"
    }
   },
   "outputs": [
    {
     "data": {
      "image/png": "[encoded data removed]",
      "text/plain": [
       "<Figure size 640x480 with 1 Axes>"
      ]
     },
     "metadata": {},
     "output_type": "display_data"
    }
   ],
   "source": [
    "plt.bar(Avg_Claim_Amt_Female_nonfraudulent.Age_grp , Avg_Claim_Amt_Female_nonfraudulent.claim_amount)\n",
    "plt.title('Avg_Claim_Amt_Female_nonfraudulent Vs claim_amount')\n",
    "plt.xlabel('Age Group')\n",
    "plt.ylabel('Claim Amount')\n",
    "plt.show()"
   ]
  },
  {
   "cell_type": "code",
   "execution_count": 61,
   "id": "6f02dfb2",
   "metadata": {
    "ExecuteTime": {
     "end_time": "2023-04-23T15:02:21.576827Z",
     "start_time": "2023-04-23T15:02:21.569842Z"
    }
   },
   "outputs": [],
   "source": [
    "#16 Is there any similarity in the amount claimed by males and females?"
   ]
  },
  {
   "cell_type": "code",
   "execution_count": 62,
   "id": "82de45e3",
   "metadata": {
    "ExecuteTime": {
     "end_time": "2023-04-23T15:02:55.833961Z",
     "start_time": "2023-04-23T15:02:55.817272Z"
    }
   },
   "outputs": [],
   "source": [
    "#1. H0 - No relationship Ha - There is a relationship for the amount claimed by males and females CI - 95% p - 0.05 2. Analysis plan formulation Significance level : We will test our hypothesis at 5% significance level"
   ]
  },
  {
   "cell_type": "code",
   "execution_count": 63,
   "id": "de745faf",
   "metadata": {
    "ExecuteTime": {
     "end_time": "2023-04-23T15:03:01.997775Z",
     "start_time": "2023-04-23T15:03:01.965779Z"
    }
   },
   "outputs": [
    {
     "data": {
      "text/plain": [
       "Male      553\n",
       "Female    532\n",
       "Name: gender, dtype: int64"
      ]
     },
     "execution_count": 63,
     "metadata": {},
     "output_type": "execute_result"
    }
   ],
   "source": [
    "comb_df.gender.value_counts()"
   ]
  },
  {
   "cell_type": "code",
   "execution_count": 64,
   "id": "f9e27560",
   "metadata": {
    "ExecuteTime": {
     "end_time": "2023-04-23T15:03:08.948992Z",
     "start_time": "2023-04-23T15:03:08.924957Z"
    }
   },
   "outputs": [
    {
     "data": {
      "text/plain": [
       "Index(['gender', 'DateOfBirth', 'State', 'Contact', 'Segment', 'claim_id',\n",
       "       'incident_cause', 'claim_date', 'claim_area', 'claim_type',\n",
       "       'claim_amount', 'total_policy_claims', 'fraudulent', 'flag', 'Age',\n",
       "       'Age_grp'],\n",
       "      dtype='object')"
      ]
     },
     "execution_count": 64,
     "metadata": {},
     "output_type": "execute_result"
    }
   ],
   "source": [
    "comb_df.columns"
   ]
  },
  {
   "cell_type": "code",
   "execution_count": 65,
   "id": "18eff384",
   "metadata": {
    "ExecuteTime": {
     "end_time": "2023-04-23T15:03:17.294259Z",
     "start_time": "2023-04-23T15:03:17.262260Z"
    }
   },
   "outputs": [],
   "source": [
    "comb_df_Gender =  comb_df.groupby([\"gender\", \"claim_date\"])[[\"claim_amount\"]].sum().reset_index()"
   ]
  },
  {
   "cell_type": "code",
   "execution_count": 66,
   "id": "139ce4a6",
   "metadata": {
    "ExecuteTime": {
     "end_time": "2023-04-23T15:03:25.140757Z",
     "start_time": "2023-04-23T15:03:25.108784Z"
    }
   },
   "outputs": [],
   "source": [
    "#creating new columns which show \"Month\" and \"Year\"\n",
    "comb_df_Gender['Monthly'] = comb_df_Gender['claim_date'].apply(lambda x:pd.Timestamp.strftime(x,format=\"%B\"))\n",
    "comb_df_Gender['Yearly'] = comb_df_Gender['claim_date'].apply(lambda x:pd.Timestamp.strftime(x,format=\"%Y\"))"
   ]
  },
  {
   "cell_type": "code",
   "execution_count": 67,
   "id": "123f3137",
   "metadata": {
    "ExecuteTime": {
     "end_time": "2023-04-23T15:03:32.660687Z",
     "start_time": "2023-04-23T15:03:32.628686Z"
    }
   },
   "outputs": [
    {
     "data": {
      "text/html": [
       "<div>\n",
       "<style scoped>\n",
       "    .dataframe tbody tr th:only-of-type {\n",
       "        vertical-align: middle;\n",
       "    }\n",
       "\n",
       "    .dataframe tbody tr th {\n",
       "        vertical-align: top;\n",
       "    }\n",
       "\n",
       "    .dataframe thead th {\n",
       "        text-align: right;\n",
       "    }\n",
       "</style>\n",
       "<table border=\"1\" class=\"dataframe\">\n",
       "  <thead>\n",
       "    <tr style=\"text-align: right;\">\n",
       "      <th></th>\n",
       "      <th>gender</th>\n",
       "      <th>claim_date</th>\n",
       "      <th>claim_amount</th>\n",
       "      <th>Monthly</th>\n",
       "      <th>Yearly</th>\n",
       "    </tr>\n",
       "  </thead>\n",
       "  <tbody>\n",
       "    <tr>\n",
       "      <th>0</th>\n",
       "      <td>Female</td>\n",
       "      <td>2017-01-01</td>\n",
       "      <td>119620.000000</td>\n",
       "      <td>January</td>\n",
       "      <td>2017</td>\n",
       "    </tr>\n",
       "    <tr>\n",
       "      <th>1</th>\n",
       "      <td>Female</td>\n",
       "      <td>2017-01-07</td>\n",
       "      <td>4576.500000</td>\n",
       "      <td>January</td>\n",
       "      <td>2017</td>\n",
       "    </tr>\n",
       "    <tr>\n",
       "      <th>2</th>\n",
       "      <td>Female</td>\n",
       "      <td>2017-01-14</td>\n",
       "      <td>85203.000000</td>\n",
       "      <td>January</td>\n",
       "      <td>2017</td>\n",
       "    </tr>\n",
       "    <tr>\n",
       "      <th>3</th>\n",
       "      <td>Female</td>\n",
       "      <td>2017-01-21</td>\n",
       "      <td>23379.501953</td>\n",
       "      <td>January</td>\n",
       "      <td>2017</td>\n",
       "    </tr>\n",
       "    <tr>\n",
       "      <th>4</th>\n",
       "      <td>Female</td>\n",
       "      <td>2017-01-27</td>\n",
       "      <td>6507.500000</td>\n",
       "      <td>January</td>\n",
       "      <td>2017</td>\n",
       "    </tr>\n",
       "  </tbody>\n",
       "</table>\n",
       "</div>"
      ],
      "text/plain": [
       "   gender claim_date   claim_amount  Monthly Yearly\n",
       "0  Female 2017-01-01  119620.000000  January   2017\n",
       "1  Female 2017-01-07    4576.500000  January   2017\n",
       "2  Female 2017-01-14   85203.000000  January   2017\n",
       "3  Female 2017-01-21   23379.501953  January   2017\n",
       "4  Female 2017-01-27    6507.500000  January   2017"
      ]
     },
     "execution_count": 67,
     "metadata": {},
     "output_type": "execute_result"
    }
   ],
   "source": [
    "comb_df_Gender.head()"
   ]
  },
  {
   "cell_type": "code",
   "execution_count": 68,
   "id": "1ab5c7fb",
   "metadata": {
    "ExecuteTime": {
     "end_time": "2023-04-23T15:03:44.568455Z",
     "start_time": "2023-04-23T15:03:44.552456Z"
    }
   },
   "outputs": [
    {
     "name": "stdout",
     "output_type": "stream",
     "text": [
      "mean of male spend:  71367.390625 | mean of female spend:  63778.25390625\n"
     ]
    }
   ],
   "source": [
    "Claim_amt = 'claim_amount'\n",
    "\n",
    "male_spend = comb_df_Gender.loc[ comb_df_Gender.gender == \"Male\", Claim_amt ]\n",
    "female_spend = comb_df_Gender.loc[ comb_df_Gender.gender == \"Female\", Claim_amt ]\n",
    "\n",
    "print( 'mean of male spend: ', male_spend.mean(), '| mean of female spend: ', female_spend.mean() )"
   ]
  },
  {
   "cell_type": "code",
   "execution_count": null,
   "id": "e6d37374",
   "metadata": {},
   "outputs": [],
   "source": [
    "#H0 - u1 = u2 Ha - u1 <> u2 CI - 95% p - 0.05"
   ]
  },
  {
   "cell_type": "code",
   "execution_count": 71,
   "id": "d7c28586",
   "metadata": {
    "ExecuteTime": {
     "end_time": "2023-04-23T15:05:35.675696Z",
     "start_time": "2023-04-23T15:05:35.558408Z"
    }
   },
   "outputs": [
    {
     "data": {
      "text/plain": [
       "Ttest_indResult(statistic=1.3269766864615602, pvalue=0.18605237044651896)"
      ]
     },
     "execution_count": 71,
     "metadata": {},
     "output_type": "execute_result"
    }
   ],
   "source": [
    "stats.ttest_ind( male_spend, female_spend )"
   ]
  },
  {
   "cell_type": "code",
   "execution_count": 72,
   "id": "c7d2216b",
   "metadata": {
    "ExecuteTime": {
     "end_time": "2023-04-23T15:06:07.121511Z",
     "start_time": "2023-04-23T15:06:07.057511Z"
    }
   },
   "outputs": [
    {
     "data": {
      "text/plain": [
       "F_onewayResult(statistic=1.760868249357575, pvalue=0.186052230728328)"
      ]
     },
     "execution_count": 72,
     "metadata": {},
     "output_type": "execute_result"
    }
   ],
   "source": [
    "stats.f_oneway( male_spend, female_spend )"
   ]
  },
  {
   "cell_type": "code",
   "execution_count": 73,
   "id": "f2d6dbc9",
   "metadata": {
    "ExecuteTime": {
     "end_time": "2023-04-23T15:06:15.130726Z",
     "start_time": "2023-04-23T15:06:15.114722Z"
    }
   },
   "outputs": [
    {
     "name": "stdout",
     "output_type": "stream",
     "text": [
      " Business conclusion: Pvalue is > 0.05. Hence we accept Null Hypothesis H0 and There is no relationship for the amount claimed by males and females\n"
     ]
    }
   ],
   "source": [
    "print (\" Business conclusion: Pvalue is > 0.05. Hence we accept Null Hypothesis H0 and There is no relationship for the amount claimed by males and females\" )"
   ]
  },
  {
   "cell_type": "code",
   "execution_count": 74,
   "id": "268bc698",
   "metadata": {
    "ExecuteTime": {
     "end_time": "2023-04-23T15:06:29.010646Z",
     "start_time": "2023-04-23T15:06:29.002644Z"
    }
   },
   "outputs": [],
   "source": [
    "#17 Is there any relationship between age category and segment?"
   ]
  },
  {
   "cell_type": "code",
   "execution_count": 75,
   "id": "7ca9dc18",
   "metadata": {
    "ExecuteTime": {
     "end_time": "2023-04-23T15:06:40.809482Z",
     "start_time": "2023-04-23T15:06:40.793480Z"
    }
   },
   "outputs": [],
   "source": [
    "#H0 - No relationship Ha - There is a relationship among the variables- relationship between age category and segment CI - 95% p - 0.05"
   ]
  },
  {
   "cell_type": "code",
   "execution_count": 76,
   "id": "787bb277",
   "metadata": {
    "ExecuteTime": {
     "end_time": "2023-04-23T15:06:48.994624Z",
     "start_time": "2023-04-23T15:06:48.690101Z"
    }
   },
   "outputs": [],
   "source": [
    "obs_freq = pd.crosstab( comb_df.Segment, comb_df.Age_grp )"
   ]
  },
  {
   "cell_type": "code",
   "execution_count": 77,
   "id": "2c154791",
   "metadata": {
    "ExecuteTime": {
     "end_time": "2023-04-23T15:06:55.663019Z",
     "start_time": "2023-04-23T15:06:55.639019Z"
    }
   },
   "outputs": [
    {
     "data": {
      "text/html": [
       "<div>\n",
       "<style scoped>\n",
       "    .dataframe tbody tr th:only-of-type {\n",
       "        vertical-align: middle;\n",
       "    }\n",
       "\n",
       "    .dataframe tbody tr th {\n",
       "        vertical-align: top;\n",
       "    }\n",
       "\n",
       "    .dataframe thead th {\n",
       "        text-align: right;\n",
       "    }\n",
       "</style>\n",
       "<table border=\"1\" class=\"dataframe\">\n",
       "  <thead>\n",
       "    <tr style=\"text-align: right;\">\n",
       "      <th>Age_grp</th>\n",
       "      <th>Adult</th>\n",
       "      <th>Children</th>\n",
       "      <th>NaN</th>\n",
       "      <th>Youth</th>\n",
       "    </tr>\n",
       "    <tr>\n",
       "      <th>Segment</th>\n",
       "      <th></th>\n",
       "      <th></th>\n",
       "      <th></th>\n",
       "      <th></th>\n",
       "    </tr>\n",
       "  </thead>\n",
       "  <tbody>\n",
       "    <tr>\n",
       "      <th>Gold</th>\n",
       "      <td>262</td>\n",
       "      <td>4</td>\n",
       "      <td>1</td>\n",
       "      <td>105</td>\n",
       "    </tr>\n",
       "    <tr>\n",
       "      <th>Platinum</th>\n",
       "      <td>241</td>\n",
       "      <td>4</td>\n",
       "      <td>3</td>\n",
       "      <td>116</td>\n",
       "    </tr>\n",
       "    <tr>\n",
       "      <th>Silver</th>\n",
       "      <td>241</td>\n",
       "      <td>0</td>\n",
       "      <td>3</td>\n",
       "      <td>105</td>\n",
       "    </tr>\n",
       "  </tbody>\n",
       "</table>\n",
       "</div>"
      ],
      "text/plain": [
       "Age_grp   Adult  Children  NaN  Youth\n",
       "Segment                              \n",
       "Gold        262         4    1    105\n",
       "Platinum    241         4    3    116\n",
       "Silver      241         0    3    105"
      ]
     },
     "execution_count": 77,
     "metadata": {},
     "output_type": "execute_result"
    }
   ],
   "source": [
    "obs_freq"
   ]
  },
  {
   "cell_type": "code",
   "execution_count": 78,
   "id": "d47a88eb",
   "metadata": {
    "ExecuteTime": {
     "end_time": "2023-04-23T15:07:04.505135Z",
     "start_time": "2023-04-23T15:07:04.346412Z"
    }
   },
   "outputs": [
    {
     "data": {
      "text/plain": [
       "(6.349304779939778,\n",
       " 0.3852189604208803,\n",
       " 6,\n",
       " array([[255.08571429,   2.74285714,   2.4       , 111.77142857],\n",
       "        [249.6       ,   2.68387097,   2.3483871 , 109.36774194],\n",
       "        [239.31428571,   2.57327189,   2.2516129 , 104.86082949]]))"
      ]
     },
     "execution_count": 78,
     "metadata": {},
     "output_type": "execute_result"
    }
   ],
   "source": [
    "stats.chi2_contingency( obs_freq )"
   ]
  },
  {
   "cell_type": "code",
   "execution_count": 79,
   "id": "fccb8f4e",
   "metadata": {
    "ExecuteTime": {
     "end_time": "2023-04-23T15:07:13.429121Z",
     "start_time": "2023-04-23T15:07:13.413113Z"
    }
   },
   "outputs": [
    {
     "name": "stdout",
     "output_type": "stream",
     "text": [
      " Business conclusion: Pvalue is > 0.05. Hence we accept Null Hypothesis H0 and There is no relationship between age category and segment\n"
     ]
    }
   ],
   "source": [
    "print (\" Business conclusion: Pvalue is > 0.05. Hence we accept Null Hypothesis H0 and There is no relationship between age category and segment\" )"
   ]
  },
  {
   "cell_type": "code",
   "execution_count": 80,
   "id": "471fd3c5",
   "metadata": {
    "ExecuteTime": {
     "end_time": "2023-04-23T15:07:45.036574Z",
     "start_time": "2023-04-23T15:07:45.028575Z"
    }
   },
   "outputs": [],
   "source": [
    "#18 The current year has shown a significant rise in claim amounts as compared to 2016-17 fiscal average which was $10,000."
   ]
  },
  {
   "cell_type": "code",
   "execution_count": 81,
   "id": "10edc573",
   "metadata": {
    "ExecuteTime": {
     "end_time": "2023-04-23T15:08:55.055308Z",
     "start_time": "2023-04-23T15:08:55.038388Z"
    }
   },
   "outputs": [],
   "source": [
    "comb_df_new =  comb_df.groupby([\"claim_date\"])[[\"claim_amount\"]].sum().reset_index()"
   ]
  },
  {
   "cell_type": "code",
   "execution_count": 82,
   "id": "35b6b73f",
   "metadata": {
    "ExecuteTime": {
     "end_time": "2023-04-23T15:09:02.938724Z",
     "start_time": "2023-04-23T15:09:02.920768Z"
    }
   },
   "outputs": [],
   "source": [
    "#creating new columns which show \"Month\" and \"Year\"\n",
    "comb_df_new['Monthly'] = comb_df_new['claim_date'].apply(lambda x:pd.Timestamp.strftime(x,format=\"%B\"))\n",
    "comb_df_new['Yearly'] = comb_df_new['claim_date'].apply(lambda x:pd.Timestamp.strftime(x,format=\"%Y\"))"
   ]
  },
  {
   "cell_type": "code",
   "execution_count": 83,
   "id": "fcbbf8c5",
   "metadata": {
    "ExecuteTime": {
     "end_time": "2023-04-23T15:09:18.269861Z",
     "start_time": "2023-04-23T15:09:18.127724Z"
    }
   },
   "outputs": [
    {
     "data": {
      "text/html": [
       "<div>\n",
       "<style scoped>\n",
       "    .dataframe tbody tr th:only-of-type {\n",
       "        vertical-align: middle;\n",
       "    }\n",
       "\n",
       "    .dataframe tbody tr th {\n",
       "        vertical-align: top;\n",
       "    }\n",
       "\n",
       "    .dataframe thead th {\n",
       "        text-align: right;\n",
       "    }\n",
       "</style>\n",
       "<table border=\"1\" class=\"dataframe\">\n",
       "  <thead>\n",
       "    <tr style=\"text-align: right;\">\n",
       "      <th></th>\n",
       "      <th>claim_date</th>\n",
       "      <th>claim_amount</th>\n",
       "      <th>Monthly</th>\n",
       "      <th>Yearly</th>\n",
       "    </tr>\n",
       "  </thead>\n",
       "  <tbody>\n",
       "    <tr>\n",
       "      <th>0</th>\n",
       "      <td>2017-01-01</td>\n",
       "      <td>203227.0</td>\n",
       "      <td>January</td>\n",
       "      <td>2017</td>\n",
       "    </tr>\n",
       "    <tr>\n",
       "      <th>1</th>\n",
       "      <td>2017-01-07</td>\n",
       "      <td>137763.5</td>\n",
       "      <td>January</td>\n",
       "      <td>2017</td>\n",
       "    </tr>\n",
       "    <tr>\n",
       "      <th>2</th>\n",
       "      <td>2017-01-14</td>\n",
       "      <td>138807.5</td>\n",
       "      <td>January</td>\n",
       "      <td>2017</td>\n",
       "    </tr>\n",
       "    <tr>\n",
       "      <th>3</th>\n",
       "      <td>2017-01-21</td>\n",
       "      <td>72576.5</td>\n",
       "      <td>January</td>\n",
       "      <td>2017</td>\n",
       "    </tr>\n",
       "    <tr>\n",
       "      <th>4</th>\n",
       "      <td>2017-01-27</td>\n",
       "      <td>57928.0</td>\n",
       "      <td>January</td>\n",
       "      <td>2017</td>\n",
       "    </tr>\n",
       "    <tr>\n",
       "      <th>...</th>\n",
       "      <td>...</td>\n",
       "      <td>...</td>\n",
       "      <td>...</td>\n",
       "      <td>...</td>\n",
       "    </tr>\n",
       "    <tr>\n",
       "      <th>95</th>\n",
       "      <td>2018-10-03</td>\n",
       "      <td>162797.5</td>\n",
       "      <td>October</td>\n",
       "      <td>2018</td>\n",
       "    </tr>\n",
       "    <tr>\n",
       "      <th>96</th>\n",
       "      <td>2018-10-09</td>\n",
       "      <td>225007.5</td>\n",
       "      <td>October</td>\n",
       "      <td>2018</td>\n",
       "    </tr>\n",
       "    <tr>\n",
       "      <th>97</th>\n",
       "      <td>2018-10-16</td>\n",
       "      <td>119829.0</td>\n",
       "      <td>October</td>\n",
       "      <td>2018</td>\n",
       "    </tr>\n",
       "    <tr>\n",
       "      <th>98</th>\n",
       "      <td>2018-10-23</td>\n",
       "      <td>147084.0</td>\n",
       "      <td>October</td>\n",
       "      <td>2018</td>\n",
       "    </tr>\n",
       "    <tr>\n",
       "      <th>99</th>\n",
       "      <td>2018-10-30</td>\n",
       "      <td>120735.5</td>\n",
       "      <td>October</td>\n",
       "      <td>2018</td>\n",
       "    </tr>\n",
       "  </tbody>\n",
       "</table>\n",
       "<p>100 rows × 4 columns</p>\n",
       "</div>"
      ],
      "text/plain": [
       "   claim_date  claim_amount  Monthly Yearly\n",
       "0  2017-01-01      203227.0  January   2017\n",
       "1  2017-01-07      137763.5  January   2017\n",
       "2  2017-01-14      138807.5  January   2017\n",
       "3  2017-01-21       72576.5  January   2017\n",
       "4  2017-01-27       57928.0  January   2017\n",
       "..        ...           ...      ...    ...\n",
       "95 2018-10-03      162797.5  October   2018\n",
       "96 2018-10-09      225007.5  October   2018\n",
       "97 2018-10-16      119829.0  October   2018\n",
       "98 2018-10-23      147084.0  October   2018\n",
       "99 2018-10-30      120735.5  October   2018\n",
       "\n",
       "[100 rows x 4 columns]"
      ]
     },
     "execution_count": 83,
     "metadata": {},
     "output_type": "execute_result"
    }
   ],
   "source": [
    "comb_df_new"
   ]
  },
  {
   "cell_type": "code",
   "execution_count": 84,
   "id": "74729c58",
   "metadata": {
    "ExecuteTime": {
     "end_time": "2023-04-23T15:09:27.646442Z",
     "start_time": "2023-04-23T15:09:27.636471Z"
    }
   },
   "outputs": [
    {
     "name": "stdout",
     "output_type": "stream",
     "text": [
      "133465.859375\n"
     ]
    }
   ],
   "source": [
    "comb_df_new_2017 = comb_df_new.loc[ comb_df_new.Yearly == '2017', 'claim_amount' ].mean()\n",
    "print( comb_df_new_2017 )"
   ]
  },
  {
   "cell_type": "code",
   "execution_count": 85,
   "id": "7ad2139f",
   "metadata": {
    "ExecuteTime": {
     "end_time": "2023-04-23T15:09:37.343962Z",
     "start_time": "2023-04-23T15:09:37.332989Z"
    }
   },
   "outputs": [],
   "source": [
    "comb_df_new_2018 = comb_df_new.loc[ comb_df_new.Yearly == '2018', 'claim_amount' ]"
   ]
  },
  {
   "cell_type": "markdown",
   "id": "d3ce200d",
   "metadata": {
    "ExecuteTime": {
     "end_time": "2023-04-23T15:09:55.137925Z",
     "start_time": "2023-04-23T15:09:55.128951Z"
    }
   },
   "source": [
    "H0 - u <= 10000 Ha - u > 10000\n",
    "\n",
    "CI - 95% p - 0.05"
   ]
  },
  {
   "cell_type": "code",
   "execution_count": 87,
   "id": "8903baf8",
   "metadata": {
    "ExecuteTime": {
     "end_time": "2023-04-23T15:10:15.787455Z",
     "start_time": "2023-04-23T15:10:15.774491Z"
    }
   },
   "outputs": [
    {
     "data": {
      "text/plain": [
       "Ttest_1sampResult(statistic=4.62313211888085, pvalue=3.310964302614461e-05)"
      ]
     },
     "execution_count": 87,
     "metadata": {},
     "output_type": "execute_result"
    }
   ],
   "source": [
    "stats.ttest_1samp( comb_df_new_2018, 100000 )"
   ]
  },
  {
   "cell_type": "markdown",
   "id": "122f46a8",
   "metadata": {},
   "source": [
    "Output: We reject the H0 Business Conclusion: Spend on the Insurance Claims has increased from last year spend of $100,000"
   ]
  },
  {
   "cell_type": "code",
   "execution_count": 88,
   "id": "3acbd270",
   "metadata": {
    "ExecuteTime": {
     "end_time": "2023-04-23T15:11:06.325511Z",
     "start_time": "2023-04-23T15:11:06.319533Z"
    }
   },
   "outputs": [],
   "source": [
    "#19 Is there any difference between age groups and insurance claims?"
   ]
  },
  {
   "cell_type": "code",
   "execution_count": 89,
   "id": "ee0eeb6e",
   "metadata": {
    "ExecuteTime": {
     "end_time": "2023-04-23T15:11:12.959284Z",
     "start_time": "2023-04-23T15:11:12.947315Z"
    }
   },
   "outputs": [
    {
     "data": {
      "text/plain": [
       "4"
      ]
     },
     "execution_count": 89,
     "metadata": {},
     "output_type": "execute_result"
    }
   ],
   "source": [
    "comb_df.Age_grp.nunique()"
   ]
  },
  {
   "cell_type": "code",
   "execution_count": 90,
   "id": "68d936b2",
   "metadata": {
    "ExecuteTime": {
     "end_time": "2023-04-23T15:11:19.347920Z",
     "start_time": "2023-04-23T15:11:19.331962Z"
    }
   },
   "outputs": [
    {
     "data": {
      "text/plain": [
       "Adult       744\n",
       "Youth       326\n",
       "Children      8\n",
       "NaN           7\n",
       "Name: Age_grp, dtype: int64"
      ]
     },
     "execution_count": 90,
     "metadata": {},
     "output_type": "execute_result"
    }
   ],
   "source": [
    "comb_df.Age_grp.value_counts()"
   ]
  },
  {
   "cell_type": "code",
   "execution_count": 91,
   "id": "e77b6235",
   "metadata": {
    "ExecuteTime": {
     "end_time": "2023-04-23T15:11:26.193087Z",
     "start_time": "2023-04-23T15:11:26.179123Z"
    }
   },
   "outputs": [
    {
     "data": {
      "text/plain": [
       "Index(['gender', 'DateOfBirth', 'State', 'Contact', 'Segment', 'claim_id',\n",
       "       'incident_cause', 'claim_date', 'claim_area', 'claim_type',\n",
       "       'claim_amount', 'total_policy_claims', 'fraudulent', 'flag', 'Age',\n",
       "       'Age_grp'],\n",
       "      dtype='object')"
      ]
     },
     "execution_count": 91,
     "metadata": {},
     "output_type": "execute_result"
    }
   ],
   "source": [
    "comb_df.columns"
   ]
  },
  {
   "cell_type": "code",
   "execution_count": 92,
   "id": "2f7e484a",
   "metadata": {
    "ExecuteTime": {
     "end_time": "2023-04-23T15:11:33.969576Z",
     "start_time": "2023-04-23T15:11:33.961598Z"
    }
   },
   "outputs": [],
   "source": [
    "Claims = 'claim_amount'"
   ]
  },
  {
   "cell_type": "code",
   "execution_count": 93,
   "id": "17184bf7",
   "metadata": {
    "ExecuteTime": {
     "end_time": "2023-04-23T15:11:44.217381Z",
     "start_time": "2023-04-23T15:11:44.198432Z"
    }
   },
   "outputs": [
    {
     "name": "stdout",
     "output_type": "stream",
     "text": [
      "Count s1: 12837.2490234375 | Count s2: 11490.4404296875 | Count s3: 12470.5009765625 | Count s3: 18300.875\n"
     ]
    }
   ],
   "source": [
    "# data processing for the test\n",
    "s1 = comb_df.loc[ comb_df.Age_grp == 'Adult', Claims ]\n",
    "s2 = comb_df.loc[ comb_df.Age_grp == 'Youth', Claims ]\n",
    "s3 = comb_df.loc[ comb_df.Age_grp == 'NaN', Claims ]\n",
    "s4 = comb_df.loc[ comb_df.Age_grp == 'Children', Claims ]\n",
    "\n",
    "print( 'Count s1:', s1.mean(), '| Count s2:', s2.mean(), '| Count s3:', s3.mean(), \n",
    "       '| Count s3:', s4.mean() )"
   ]
  },
  {
   "cell_type": "markdown",
   "id": "0f3d5824",
   "metadata": {},
   "source": [
    "H0 - means are from same population (difference between age groups and insurance claims) Ha - means are from different population CI - 95% p - 0.05"
   ]
  },
  {
   "cell_type": "code",
   "execution_count": 94,
   "id": "55dd9e90",
   "metadata": {
    "ExecuteTime": {
     "end_time": "2023-04-23T15:12:11.762857Z",
     "start_time": "2023-04-23T15:12:11.749892Z"
    }
   },
   "outputs": [
    {
     "data": {
      "text/plain": [
       "F_onewayResult(statistic=1.2877623271900271, pvalue=0.27719067054639274)"
      ]
     },
     "execution_count": 94,
     "metadata": {},
     "output_type": "execute_result"
    }
   ],
   "source": [
    "stats.f_oneway( s1, s2, s3, s4 )"
   ]
  },
  {
   "cell_type": "code",
   "execution_count": 95,
   "id": "eb6d1101",
   "metadata": {
    "ExecuteTime": {
     "end_time": "2023-04-23T15:12:19.711622Z",
     "start_time": "2023-04-23T15:12:19.703644Z"
    }
   },
   "outputs": [
    {
     "name": "stdout",
     "output_type": "stream",
     "text": [
      " Business conclusion: Pvalue is > 0.05. Hence we accept Null Hypothesis H0 and There is no difference between age groups and insurance claims\n"
     ]
    }
   ],
   "source": [
    "print (\" Business conclusion: Pvalue is > 0.05. Hence we accept Null Hypothesis H0 and There is no difference between age groups and insurance claims\" )"
   ]
  },
  {
   "cell_type": "code",
   "execution_count": 96,
   "id": "0e81293f",
   "metadata": {
    "ExecuteTime": {
     "end_time": "2023-04-23T15:12:41.147507Z",
     "start_time": "2023-04-23T15:12:41.141525Z"
    }
   },
   "outputs": [],
   "source": [
    "#20 Is there any relationship between total number of policy claims and the claimed amount?"
   ]
  },
  {
   "cell_type": "code",
   "execution_count": 97,
   "id": "e9f46d21",
   "metadata": {
    "ExecuteTime": {
     "end_time": "2023-04-23T15:12:49.423582Z",
     "start_time": "2023-04-23T15:12:49.378701Z"
    }
   },
   "outputs": [
    {
     "data": {
      "text/plain": [
       "1.0    781\n",
       "2.0    104\n",
       "3.0     86\n",
       "4.0     58\n",
       "5.0     27\n",
       "6.0      9\n",
       "7.0      2\n",
       "8.0      1\n",
       "Name: total_policy_claims, dtype: int64"
      ]
     },
     "execution_count": 97,
     "metadata": {},
     "output_type": "execute_result"
    }
   ],
   "source": [
    "comb_df.total_policy_claims.value_counts()"
   ]
  },
  {
   "cell_type": "code",
   "execution_count": 98,
   "id": "72650bfe",
   "metadata": {
    "ExecuteTime": {
     "end_time": "2023-04-23T15:12:56.444057Z",
     "start_time": "2023-04-23T15:12:56.433085Z"
    }
   },
   "outputs": [
    {
     "data": {
      "text/plain": [
       "Index(['gender', 'DateOfBirth', 'State', 'Contact', 'Segment', 'claim_id',\n",
       "       'incident_cause', 'claim_date', 'claim_area', 'claim_type',\n",
       "       'claim_amount', 'total_policy_claims', 'fraudulent', 'flag', 'Age',\n",
       "       'Age_grp'],\n",
       "      dtype='object')"
      ]
     },
     "execution_count": 98,
     "metadata": {},
     "output_type": "execute_result"
    }
   ],
   "source": [
    "comb_df.columns"
   ]
  },
  {
   "cell_type": "code",
   "execution_count": 99,
   "id": "c9ab83d6",
   "metadata": {
    "ExecuteTime": {
     "end_time": "2023-04-23T15:13:04.518959Z",
     "start_time": "2023-04-23T15:13:04.511980Z"
    }
   },
   "outputs": [],
   "source": [
    "usage = 'claim_amount'"
   ]
  },
  {
   "cell_type": "code",
   "execution_count": 100,
   "id": "aefb1e8b",
   "metadata": {
    "ExecuteTime": {
     "end_time": "2023-04-23T15:13:15.457758Z",
     "start_time": "2023-04-23T15:13:15.428829Z"
    },
    "scrolled": true
   },
   "outputs": [
    {
     "name": "stdout",
     "output_type": "stream",
     "text": [
      "mean s1: 12403.6552734375 | mean s2: 13876.4521484375 | mean s3: 12928.19140625 mean s4: 11049.724609375 | mean s5: 8530.462890625 | mean s6: 15657.8330078125 |mean s7: 23033.0 | mean s8: 13876.4521484375 | mean s8: 12928.19140625\n"
     ]
    }
   ],
   "source": [
    "# data processing for the test\n",
    "s1 = comb_df.loc[ comb_df.total_policy_claims == 1.0, usage ]\n",
    "s2 = comb_df.loc[ comb_df.total_policy_claims == 2.0, usage ]\n",
    "s3 = comb_df.loc[ comb_df.total_policy_claims == 3.0, usage ]\n",
    "s4 = comb_df.loc[ comb_df.total_policy_claims == 4.0, usage ]\n",
    "s5 = comb_df.loc[ comb_df.total_policy_claims == 5.0, usage ]\n",
    "s6 = comb_df.loc[ comb_df.total_policy_claims == 6.0, usage ]\n",
    "s7 = comb_df.loc[ comb_df.total_policy_claims == 7.0, usage ]\n",
    "s8 = comb_df.loc[ comb_df.total_policy_claims == 8.0, usage ]\n",
    "\n",
    "print( 'mean s1:', s1.mean(), '| mean s2:', s2.mean(), '| mean s3:', s3.mean(),'mean s4:', s4.mean(), \n",
    "       '| mean s5:', s5.mean(), '| mean s6:', s6.mean(),'|mean s7:', s7.mean(), '| mean s8:', s2.mean(), '| mean s8:', s3.mean() )"
   ]
  },
  {
   "cell_type": "markdown",
   "id": "f310f634",
   "metadata": {},
   "source": [
    "H0 - means are from same population Ha - means are from different population CI - 95% p - 0.05"
   ]
  },
  {
   "cell_type": "code",
   "execution_count": 101,
   "id": "f66deb83",
   "metadata": {
    "ExecuteTime": {
     "end_time": "2023-04-23T15:13:38.846033Z",
     "start_time": "2023-04-23T15:13:38.833065Z"
    }
   },
   "outputs": [
    {
     "data": {
      "text/plain": [
       "F_onewayResult(statistic=0.9303871872119974, pvalue=0.4818261589585725)"
      ]
     },
     "execution_count": 101,
     "metadata": {},
     "output_type": "execute_result"
    }
   ],
   "source": [
    "stats.f_oneway( s1, s2, s3, s4, s5, s6, s7, s8 )"
   ]
  },
  {
   "cell_type": "markdown",
   "id": "741fea76",
   "metadata": {},
   "source": [
    "Business conclusion: We accept the H0 There is Relationship between total number of policy claims and the claimed amount"
   ]
  }
 ],
 "metadata": {
  "kernelspec": {
   "display_name": "Python 3 (ipykernel)",
   "language": "python",
   "name": "python3"
  },
  "language_info": {
   "codemirror_mode": {
    "name": "ipython",
    "version": 3
   },
   "file_extension": ".py",
   "mimetype": "text/x-python",
   "name": "python",
   "nbconvert_exporter": "python",
   "pygments_lexer": "ipython3",
   "version": "3.9.13"
  },
  "toc": {
   "base_numbering": 1,
   "nav_menu": {},
   "number_sections": true,
   "sideBar": true,
   "skip_h1_title": false,
   "title_cell": "Table of Contents",
   "title_sidebar": "Contents",
   "toc_cell": false,
   "toc_position": {},
   "toc_section_display": true,
   "toc_window_display": false
  },
  "varInspector": {
   "cols": {
    "lenName": 16,
    "lenType": 16,
    "lenVar": 40
   },
   "kernels_config": {
    "python": {
     "delete_cmd_postfix": "",
     "delete_cmd_prefix": "del ",
     "library": "var_list.py",
     "varRefreshCmd": "print(var_dic_list())"
    },
    "r": {
     "delete_cmd_postfix": ") ",
     "delete_cmd_prefix": "rm(",
     "library": "var_list.r",
     "varRefreshCmd": "cat(var_dic_list()) "
    }
   },
   "types_to_exclude": [
    "module",
    "function",
    "builtin_function_or_method",
    "instance",
    "_Feature"
   ],
   "window_display": false
  }
 },
 "nbformat": 4,
 "nbformat_minor": 5
}
